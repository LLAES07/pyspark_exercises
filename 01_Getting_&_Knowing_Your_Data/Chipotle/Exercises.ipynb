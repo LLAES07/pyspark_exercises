{
 "cells": [
  {
   "cell_type": "markdown",
   "metadata": {},
   "source": [
    "# Ex2 - Getting and Knowing your Data"
   ]
  },
  {
   "cell_type": "markdown",
   "metadata": {},
   "source": [
    "This time we are going to pull data directly from the internet.\n",
    "Special thanks to: https://github.com/justmarkham for sharing the dataset and materials.\n",
    "\n",
    "### Step 1. Import the necessary libraries"
   ]
  },
  {
   "cell_type": "code",
   "execution_count": 103,
   "metadata": {},
   "outputs": [
    {
     "name": "stdout",
     "output_type": "stream",
     "text": [
      "/usr/lib/jvm/java-21-openjdk-amd64/\n"
     ]
    }
   ],
   "source": [
    "import os\n",
    "print(os.environ.get(\"JAVA_HOME\"))"
   ]
  },
  {
   "cell_type": "markdown",
   "metadata": {},
   "source": []
  },
  {
   "cell_type": "code",
   "execution_count": 104,
   "metadata": {
    "collapsed": false
   },
   "outputs": [
    {
     "name": "stdout",
     "output_type": "stream",
     "text": [
      "✅ SparkSession creada exitosamente!\n",
      "Versión de Spark: 3.5.5\n",
      "SparkContext disponible: <SparkContext master=local[*] appName=TestApp>\n"
     ]
    }
   ],
   "source": [
    "import pandas as pd\n",
    "\n",
    "from pyspark.sql import SparkSession\n",
    "\n",
    "\n",
    "try:\n",
    "    spark = SparkSession.builder.appName(\"TestApp\").getOrCreate()\n",
    "    print(\"✅ SparkSession creada exitosamente!\")\n",
    "    print(f\"Versión de Spark: {spark.version}\")\n",
    "    sc = spark.sparkContext\n",
    "    print(f\"SparkContext disponible: {sc}\")\n",
    "except Exception as e:\n",
    "    print(\"❌ Error al crear SparkSession:\")\n",
    "    print(e)\n"
   ]
  },
  {
   "cell_type": "markdown",
   "metadata": {},
   "source": [
    "### Step 2. Import the dataset from this [address](https://raw.githubusercontent.com/justmarkham/DAT8/master/data/chipotle.tsv). "
   ]
  },
  {
   "cell_type": "markdown",
   "metadata": {},
   "source": [
    "### Step 3. Assign it to a variable called chipo."
   ]
  },
  {
   "cell_type": "code",
   "execution_count": 105,
   "metadata": {},
   "outputs": [],
   "source": [
    "import requests\n",
    "\n",
    "# link\n",
    "url = 'https://raw.githubusercontent.com/justmarkham/DAT8/master/data/chipotle.tsv'\n",
    "local_file = 'chipotle.tsv'\n",
    "\n",
    "r = requests.get(url)\n",
    "\n",
    "# Guardar como texto (r.text) en modo texto\n",
    "with open(local_file, 'w', encoding='utf-8') as f:\n",
    "    f.write(r.text)\n",
    "\n",
    "\n",
    "chipote = spark.read.csv(local_file, header=True, inferSchema=True, sep='\\t')\n"
   ]
  },
  {
   "cell_type": "markdown",
   "metadata": {},
   "source": [
    "### Step 4. See the first 10 entries"
   ]
  },
  {
   "cell_type": "code",
   "execution_count": 106,
   "metadata": {
    "collapsed": false,
    "scrolled": false
   },
   "outputs": [
    {
     "name": "stdout",
     "output_type": "stream",
     "text": [
      "+--------+--------+--------------------+--------------------+----------+\n",
      "|order_id|quantity|           item_name|  choice_description|item_price|\n",
      "+--------+--------+--------------------+--------------------+----------+\n",
      "|       1|       1|Chips and Fresh T...|                NULL|    $2.39 |\n",
      "|       1|       1|                Izze|        [Clementine]|    $3.39 |\n",
      "|       1|       1|    Nantucket Nectar|             [Apple]|    $3.39 |\n",
      "|       1|       1|Chips and Tomatil...|                NULL|    $2.39 |\n",
      "|       2|       2|        Chicken Bowl|[Tomatillo-Red Ch...|   $16.98 |\n",
      "|       3|       1|        Chicken Bowl|[Fresh Tomato Sal...|   $10.98 |\n",
      "|       3|       1|       Side of Chips|                NULL|    $1.69 |\n",
      "|       4|       1|       Steak Burrito|[Tomatillo Red Ch...|   $11.75 |\n",
      "|       4|       1|    Steak Soft Tacos|[Tomatillo Green ...|    $9.25 |\n",
      "|       5|       1|       Steak Burrito|[Fresh Tomato Sal...|    $9.25 |\n",
      "+--------+--------+--------------------+--------------------+----------+\n",
      "only showing top 10 rows\n",
      "\n"
     ]
    }
   ],
   "source": [
    "primeros_10 = chipote.show(10)\n",
    "primeros_10"
   ]
  },
  {
   "cell_type": "markdown",
   "metadata": {},
   "source": [
    "### Step 5. What is the number of observations in the dataset?"
   ]
  },
  {
   "cell_type": "code",
   "execution_count": 107,
   "metadata": {
    "collapsed": false
   },
   "outputs": [
    {
     "name": "stdout",
     "output_type": "stream",
     "text": [
      "El total de observaciones es de 4622\n"
     ]
    }
   ],
   "source": [
    "# Solution 1\n",
    "\n",
    "cuenta_observaciones = chipote.count()\n",
    "\n",
    "print('El total de observaciones es de %s'% cuenta_observaciones)"
   ]
  },
  {
   "cell_type": "markdown",
   "metadata": {},
   "source": [
    "### Step 6. What is the number of columns in the dataset?"
   ]
  },
  {
   "cell_type": "code",
   "execution_count": 108,
   "metadata": {
    "collapsed": false
   },
   "outputs": [
    {
     "name": "stdout",
     "output_type": "stream",
     "text": [
      "El total de columnas es de 5\n"
     ]
    }
   ],
   "source": [
    "numero_cols = len(chipote.columns)\n",
    "print('El total de columnas es de %s'% numero_cols)\n"
   ]
  },
  {
   "cell_type": "markdown",
   "metadata": {},
   "source": [
    "### Step 7. Print the name of all the columns."
   ]
  },
  {
   "cell_type": "code",
   "execution_count": 109,
   "metadata": {
    "collapsed": false
   },
   "outputs": [
    {
     "data": {
      "text/plain": [
       "'Col 1: order_id -- Col 2: quantity -- Col 3: item_name -- Col 4: choice_description -- Col 5: item_price'"
      ]
     },
     "execution_count": 109,
     "metadata": {},
     "output_type": "execute_result"
    }
   ],
   "source": [
    "' -- '.join([f\"Col {i+1}: {col}\" for i, col in enumerate(chipote.columns)])\n"
   ]
  },
  {
   "cell_type": "markdown",
   "metadata": {},
   "source": [
    "### Step 8. How is the dataset indexed?"
   ]
  },
  {
   "cell_type": "code",
   "execution_count": 110,
   "metadata": {
    "collapsed": false
   },
   "outputs": [
    {
     "name": "stdout",
     "output_type": "stream",
     "text": [
      "+--------+--------+--------------------+--------------------+----------+------+\n",
      "|order_id|quantity|           item_name|  choice_description|item_price|indice|\n",
      "+--------+--------+--------------------+--------------------+----------+------+\n",
      "|       1|       1|Chips and Fresh T...|                NULL|    $2.39 |     0|\n",
      "|       1|       1|                Izze|        [Clementine]|    $3.39 |     1|\n",
      "|       1|       1|    Nantucket Nectar|             [Apple]|    $3.39 |     2|\n",
      "|       1|       1|Chips and Tomatil...|                NULL|    $2.39 |     3|\n",
      "|       2|       2|        Chicken Bowl|[Tomatillo-Red Ch...|   $16.98 |     4|\n",
      "+--------+--------+--------------------+--------------------+----------+------+\n",
      "only showing top 5 rows\n",
      "\n",
      "+--------+--------+--------------------+--------------------+----------+-----+\n",
      "|order_id|quantity|           item_name|  choice_description|item_price|index|\n",
      "+--------+--------+--------------------+--------------------+----------+-----+\n",
      "|       1|       1|Chips and Fresh T...|                NULL|    $2.39 |    1|\n",
      "|       1|       1|                Izze|        [Clementine]|    $3.39 |    2|\n",
      "|       1|       1|    Nantucket Nectar|             [Apple]|    $3.39 |    3|\n",
      "|       1|       1|Chips and Tomatil...|                NULL|    $2.39 |    4|\n",
      "|       2|       2|        Chicken Bowl|[Tomatillo-Red Ch...|   $16.98 |    5|\n",
      "+--------+--------+--------------------+--------------------+----------+-----+\n",
      "only showing top 5 rows\n",
      "\n"
     ]
    },
    {
     "name": "stderr",
     "output_type": "stream",
     "text": [
      "25/05/26 21:32:34 WARN WindowExec: No Partition Defined for Window operation! Moving all data to a single partition, this can cause serious performance degradation.\n",
      "25/05/26 21:32:34 WARN WindowExec: No Partition Defined for Window operation! Moving all data to a single partition, this can cause serious performance degradation.\n",
      "25/05/26 21:32:34 WARN WindowExec: No Partition Defined for Window operation! Moving all data to a single partition, this can cause serious performance degradation.\n"
     ]
    }
   ],
   "source": [
    "# Los dataframes de pyspark no se encuentran indexados como en pandas ya que estos se distribuyen en sobre RDDS,\n",
    "\n",
    "# ESto seria desde el 0 en adelante\n",
    "from pyspark.sql.functions import monotonically_increasing_id\n",
    "\n",
    "df_index = chipote.withColumn('indice', monotonically_increasing_id())  \n",
    "\n",
    "df_index.show(5)\n",
    "\n",
    "# ESto seria desde el 1 en adelante\n",
    "\n",
    "from pyspark.sql.functions import row_number\n",
    "from pyspark.sql.window import Window\n",
    "\n",
    "df_indexed = chipote.withColumn(\"index\", row_number().over(Window.orderBy(\"order_id\")))\n",
    "df_indexed.show(5)"
   ]
  },
  {
   "cell_type": "markdown",
   "metadata": {},
   "source": [
    "### Step 9. Which was the most-ordered item? "
   ]
  },
  {
   "cell_type": "code",
   "execution_count": 111,
   "metadata": {
    "collapsed": false
   },
   "outputs": [
    {
     "name": "stdout",
     "output_type": "stream",
     "text": [
      "+------------+-----+\n",
      "|   item_name|count|\n",
      "+------------+-----+\n",
      "|Chicken Bowl|  726|\n",
      "+------------+-----+\n",
      "only showing top 1 row\n",
      "\n",
      "+------------+---------------------+\n",
      "|   item_name|cantidad_total_pedida|\n",
      "+------------+---------------------+\n",
      "|Chicken Bowl|                  726|\n",
      "+------------+---------------------+\n",
      "only showing top 1 row\n",
      "\n"
     ]
    }
   ],
   "source": [
    "# 1era forma\n",
    "item_mas_ordenado = chipote.groupBy(\"item_name\").count().orderBy('count', ascending=False).show(1)\n",
    "\n",
    "# 2da forma\n",
    "from pyspark.sql.functions import count\n",
    "\n",
    "item_mas_ordenado_form_2 = chipote.groupBy('item_name') \\\n",
    "       .agg(count('*').alias('cantidad_total_pedida')) \\\n",
    "       .orderBy(\"cantidad_total_pedida\", ascending=False) \\\n",
    "       .show(1)\n"
   ]
  },
  {
   "cell_type": "markdown",
   "metadata": {},
   "source": [
    "### Step 10. For the most-ordered item, how many items were ordered?"
   ]
  },
  {
   "cell_type": "code",
   "execution_count": 112,
   "metadata": {},
   "outputs": [
    {
     "name": "stdout",
     "output_type": "stream",
     "text": [
      "+--------+--------+--------------------+--------------------+----------+\n",
      "|order_id|quantity|           item_name|  choice_description|item_price|\n",
      "+--------+--------+--------------------+--------------------+----------+\n",
      "|       1|       1|Chips and Fresh T...|                NULL|    $2.39 |\n",
      "|       1|       1|                Izze|        [Clementine]|    $3.39 |\n",
      "|       1|       1|    Nantucket Nectar|             [Apple]|    $3.39 |\n",
      "|       1|       1|Chips and Tomatil...|                NULL|    $2.39 |\n",
      "|       2|       2|        Chicken Bowl|[Tomatillo-Red Ch...|   $16.98 |\n",
      "|       3|       1|        Chicken Bowl|[Fresh Tomato Sal...|   $10.98 |\n",
      "|       3|       1|       Side of Chips|                NULL|    $1.69 |\n",
      "|       4|       1|       Steak Burrito|[Tomatillo Red Ch...|   $11.75 |\n",
      "|       4|       1|    Steak Soft Tacos|[Tomatillo Green ...|    $9.25 |\n",
      "|       5|       1|       Steak Burrito|[Fresh Tomato Sal...|    $9.25 |\n",
      "|       5|       1| Chips and Guacamole|                NULL|    $4.45 |\n",
      "|       6|       1|Chicken Crispy Tacos|[Roasted Chili Co...|    $8.75 |\n",
      "|       6|       1|  Chicken Soft Tacos|[Roasted Chili Co...|    $8.75 |\n",
      "|       7|       1|        Chicken Bowl|[Fresh Tomato Sal...|   $11.25 |\n",
      "|       7|       1| Chips and Guacamole|                NULL|    $4.45 |\n",
      "|       8|       1|Chips and Tomatil...|                NULL|    $2.39 |\n",
      "|       8|       1|     Chicken Burrito|[Tomatillo-Green ...|    $8.49 |\n",
      "|       9|       1|     Chicken Burrito|[Fresh Tomato Sal...|    $8.49 |\n",
      "|       9|       2|         Canned Soda|            [Sprite]|    $2.18 |\n",
      "|      10|       1|        Chicken Bowl|[Tomatillo Red Ch...|    $8.75 |\n",
      "+--------+--------+--------------------+--------------------+----------+\n",
      "only showing top 20 rows\n",
      "\n"
     ]
    }
   ],
   "source": [
    "chipote.show()"
   ]
  },
  {
   "cell_type": "code",
   "execution_count": 113,
   "metadata": {
    "collapsed": false
   },
   "outputs": [
    {
     "name": "stdout",
     "output_type": "stream",
     "text": [
      "+-----------------------+\n",
      "|cantidad_veces_ordenado|\n",
      "+-----------------------+\n",
      "|                    761|\n",
      "+-----------------------+\n",
      "\n"
     ]
    }
   ],
   "source": [
    "from pyspark.sql.functions import col, sum, countDistinct\n",
    "\n",
    "item_mas_ordenado_df = chipote.groupBy(\"item_name\").count().orderBy('count', ascending=False)\n",
    "\n",
    "item_mas_ordenado = item_mas_ordenado_df.select('item_name').first()['item_name']\n",
    "\n",
    "\n",
    "\n",
    "chipote.filter(col('item_name') == item_mas_ordenado) \\\n",
    "       .agg(sum(\"quantity\").alias(\"cantidad_veces_ordenado\")) \\\n",
    "       .show()"
   ]
  },
  {
   "cell_type": "markdown",
   "metadata": {},
   "source": [
    "### Step 11. What was the most ordered item in the choice_description column?"
   ]
  },
  {
   "cell_type": "code",
   "execution_count": 114,
   "metadata": {
    "collapsed": false
   },
   "outputs": [
    {
     "name": "stdout",
     "output_type": "stream",
     "text": [
      "+------------------------------------------------------------------------------------------------------------------+\n",
      "|choice_description                                                                                                |\n",
      "+------------------------------------------------------------------------------------------------------------------+\n",
      "|NULL                                                                                                              |\n",
      "|[Clementine]                                                                                                      |\n",
      "|[Apple]                                                                                                           |\n",
      "|NULL                                                                                                              |\n",
      "|[Tomatillo-Red Chili Salsa (Hot), [Black Beans, Rice, Cheese, Sour Cream]]                                        |\n",
      "|[Fresh Tomato Salsa (Mild), [Rice, Cheese, Sour Cream, Guacamole, Lettuce]]                                       |\n",
      "|NULL                                                                                                              |\n",
      "|[Tomatillo Red Chili Salsa, [Fajita Vegetables, Black Beans, Pinto Beans, Cheese, Sour Cream, Guacamole, Lettuce]]|\n",
      "|[Tomatillo Green Chili Salsa, [Pinto Beans, Cheese, Sour Cream, Lettuce]]                                         |\n",
      "|[Fresh Tomato Salsa, [Rice, Black Beans, Pinto Beans, Cheese, Sour Cream, Lettuce]]                               |\n",
      "|NULL                                                                                                              |\n",
      "|[Roasted Chili Corn Salsa, [Fajita Vegetables, Rice, Black Beans, Cheese, Sour Cream]]                            |\n",
      "|[Roasted Chili Corn Salsa, [Rice, Black Beans, Cheese, Sour Cream]]                                               |\n",
      "|[Fresh Tomato Salsa, [Fajita Vegetables, Rice, Cheese, Sour Cream, Guacamole]]                                    |\n",
      "|NULL                                                                                                              |\n",
      "|NULL                                                                                                              |\n",
      "|[Tomatillo-Green Chili Salsa (Medium), [Pinto Beans, Cheese, Sour Cream]]                                         |\n",
      "|[Fresh Tomato Salsa (Mild), [Black Beans, Rice, Cheese, Sour Cream, Lettuce]]                                     |\n",
      "|[Sprite]                                                                                                          |\n",
      "|[Tomatillo Red Chili Salsa, [Fajita Vegetables, Black Beans, Sour Cream, Cheese, Lettuce]]                        |\n",
      "+------------------------------------------------------------------------------------------------------------------+\n",
      "only showing top 20 rows\n",
      "\n"
     ]
    }
   ],
   "source": [
    "from collections import Counter\n",
    "from pyspark.sql import functions as F\n",
    "\n",
    "chipote.select(\"choice_description\") \\\n",
    "       .show(20, truncate=False)"
   ]
  },
  {
   "cell_type": "markdown",
   "metadata": {},
   "source": [
    "### Step 12. How many items were orderd in total?"
   ]
  },
  {
   "cell_type": "code",
   "execution_count": 115,
   "metadata": {
    "collapsed": false
   },
   "outputs": [
    {
     "name": "stdout",
     "output_type": "stream",
     "text": [
      "+------------------------------------+-----+\n",
      "|item                                |count|\n",
      "+------------------------------------+-----+\n",
      "|Rice                                |2389 |\n",
      "|Cheese                              |2281 |\n",
      "|Lettuce                             |1742 |\n",
      "|Sour Cream                          |1711 |\n",
      "|Black Beans                         |1342 |\n",
      "|NULL                                |1246 |\n",
      "|Fresh Tomato Salsa                  |1046 |\n",
      "|Guacamole                           |1037 |\n",
      "|Fajita Vegetables                   |722  |\n",
      "|Pinto Beans                         |582  |\n",
      "|Roasted Chili Corn Salsa            |457  |\n",
      "|Fresh Tomato Salsa (Mild)           |351  |\n",
      "|Tomatillo Red Chili Salsa           |325  |\n",
      "|Fajita Veggies                      |302  |\n",
      "|Roasted Chili Corn Salsa (Medium)   |270  |\n",
      "|Tomatillo-Red Chili Salsa (Hot)     |259  |\n",
      "|Tomatillo Green Chili Salsa         |230  |\n",
      "|Diet Coke                           |134  |\n",
      "|Tomatillo-Green Chili Salsa (Medium)|128  |\n",
      "|Coke                                |123  |\n",
      "+------------------------------------+-----+\n",
      "only showing top 20 rows\n",
      "\n"
     ]
    }
   ],
   "source": [
    "from pyspark.sql.functions import udf, explode, col\n",
    "from pyspark.sql.types import ArrayType, StringType\n",
    "import pyspark.sql.functions as F\n",
    "\n",
    "def parse_bracket_list(s: str):\n",
    "    if not s or len(s) < 2 or s[0] != \"[\" or s[-1] != \"]\":\n",
    "        # si no está bien bracketed, devolvemos la cadena tal cual (o vacío si era None)\n",
    "        return [s.strip()] if s else []\n",
    "    inner = s[1:-1]  # quito corchetes exteriores\n",
    "    items = []\n",
    "    buff = \"\"\n",
    "    depth = 0\n",
    "    for ch in inner:\n",
    "        if ch == \"[\":\n",
    "            depth += 1\n",
    "            buff += ch\n",
    "        elif ch == \"]\":\n",
    "            depth -= 1\n",
    "            buff += ch\n",
    "        elif ch == \",\" and depth == 0:\n",
    "            # coma separadora a nivel top\n",
    "            items.append(buff.strip())\n",
    "            buff = \"\"\n",
    "        else:\n",
    "            buff += ch\n",
    "    if buff:\n",
    "        items.append(buff.strip())\n",
    "\n",
    "    # ahora aplano recursivamente\n",
    "    flat = []\n",
    "    for it in items:\n",
    "        if it.startswith(\"[\") and it.endswith(\"]\"):\n",
    "            flat.extend(parse_bracket_list(it))\n",
    "        else:\n",
    "            flat.append(it)\n",
    "    return flat\n",
    "\n",
    "# registramos el UDF\n",
    "parse_udf = udf(parse_bracket_list, ArrayType(StringType()))\n",
    "\n",
    "# 1. Creamos columna de arrays parseados\n",
    "df0 = chipote.withColumn(\"items\", parse_udf(col(\"choice_description\")))\n",
    "\n",
    "# 2. Explode y contamos\n",
    "freq_df = (\n",
    "    df0\n",
    "    .withColumn(\"item\", explode(col(\"items\")))\n",
    "    .groupBy(\"item\")\n",
    "    .agg(F.count(\"*\").alias(\"count\"))\n",
    "    .orderBy(col(\"count\").desc())\n",
    ")\n",
    "\n",
    "freq_df.show(truncate=False)\n"
   ]
  },
  {
   "cell_type": "markdown",
   "metadata": {},
   "source": [
    "### Step 13. Turn the item price into a float"
   ]
  },
  {
   "cell_type": "code",
   "execution_count": 141,
   "metadata": {},
   "outputs": [],
   "source": [
    "from pyspark.sql.functions import col, regexp_replace\n",
    "\n",
    "\n",
    "chipote2 = chipote.withColumn('item_price',regexp_replace(\n",
    "                                                        regexp_replace(col('item_price'), r'\\$', ''),\n",
    "                                                          r'\\.',''\n",
    "                                                          ).cast('float')\n",
    "                                                        \n",
    "                            )"
   ]
  },
  {
   "cell_type": "markdown",
   "metadata": {},
   "source": [
    "#### Step 13.a. Check the item price type"
   ]
  },
  {
   "cell_type": "code",
   "execution_count": 142,
   "metadata": {
    "collapsed": false
   },
   "outputs": [
    {
     "name": "stdout",
     "output_type": "stream",
     "text": [
      "root\n",
      " |-- item_price: float (nullable = true)\n",
      "\n"
     ]
    }
   ],
   "source": [
    "chipote2.select('item_price').printSchema()"
   ]
  },
  {
   "cell_type": "markdown",
   "metadata": {},
   "source": [
    "#### Step 13.b. Create a lambda function and change the type of item price"
   ]
  },
  {
   "cell_type": "code",
   "execution_count": null,
   "metadata": {
    "collapsed": true
   },
   "outputs": [],
   "source": []
  },
  {
   "cell_type": "markdown",
   "metadata": {},
   "source": [
    "#### Step 13.c. Check the item price type"
   ]
  },
  {
   "cell_type": "code",
   "execution_count": null,
   "metadata": {
    "collapsed": false
   },
   "outputs": [],
   "source": []
  },
  {
   "cell_type": "markdown",
   "metadata": {},
   "source": [
    "### Step 14. How much was the revenue for the period in the dataset?"
   ]
  },
  {
   "cell_type": "code",
   "execution_count": 155,
   "metadata": {
    "collapsed": false
   },
   "outputs": [
    {
     "name": "stdout",
     "output_type": "stream",
     "text": [
      "+-------------+\n",
      "|total_Revenue|\n",
      "+-------------+\n",
      "|    3923702.0|\n",
      "+-------------+\n",
      "\n"
     ]
    }
   ],
   "source": [
    "chipote2.select(sum(col('quantity')*col('item_price')).alias(\"total_Revenue\")).show()"
   ]
  },
  {
   "cell_type": "code",
   "execution_count": 156,
   "metadata": {},
   "outputs": [
    {
     "name": "stdout",
     "output_type": "stream",
     "text": [
      "+-------------+\n",
      "|total_Revenue|\n",
      "+-------------+\n",
      "|    3923702.0|\n",
      "+-------------+\n",
      "\n"
     ]
    }
   ],
   "source": [
    "chipote2.agg(\n",
    "    sum(col(\"quantity\") * col(\"item_price\"))\n",
    "      .alias(\"total_Revenue\")\n",
    ").show()"
   ]
  },
  {
   "cell_type": "markdown",
   "metadata": {},
   "source": [
    "### Step 15. How many orders were made in the period?"
   ]
  },
  {
   "cell_type": "code",
   "execution_count": null,
   "metadata": {
    "collapsed": false
   },
   "outputs": [],
   "source": []
  },
  {
   "cell_type": "markdown",
   "metadata": {},
   "source": [
    "### Step 16. What is the average revenue amount per order?"
   ]
  },
  {
   "cell_type": "code",
   "execution_count": 119,
   "metadata": {
    "collapsed": false
   },
   "outputs": [],
   "source": [
    "# Solution 1\n",
    "\n"
   ]
  },
  {
   "cell_type": "code",
   "execution_count": 120,
   "metadata": {
    "collapsed": false
   },
   "outputs": [],
   "source": [
    "# Solution 2\n",
    "\n"
   ]
  },
  {
   "cell_type": "markdown",
   "metadata": {},
   "source": [
    "### Step 17. How many different items are sold?"
   ]
  },
  {
   "cell_type": "code",
   "execution_count": null,
   "metadata": {
    "collapsed": false
   },
   "outputs": [],
   "source": []
  }
 ],
 "metadata": {
  "anaconda-cloud": {},
  "kernelspec": {
   "display_name": "myenv_",
   "language": "python",
   "name": "python3"
  },
  "language_info": {
   "codemirror_mode": {
    "name": "ipython",
    "version": 3
   },
   "file_extension": ".py",
   "mimetype": "text/x-python",
   "name": "python",
   "nbconvert_exporter": "python",
   "pygments_lexer": "ipython3",
   "version": "3.10.17"
  }
 },
 "nbformat": 4,
 "nbformat_minor": 0
}
