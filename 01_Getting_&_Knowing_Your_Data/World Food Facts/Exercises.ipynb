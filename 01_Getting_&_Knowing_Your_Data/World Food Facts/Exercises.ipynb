{
 "cells": [
  {
   "cell_type": "markdown",
   "metadata": {},
   "source": [
    "# Exercise 1"
   ]
  },
  {
   "cell_type": "markdown",
   "metadata": {},
   "source": [
    "### Step 1. Go to https://www.kaggle.com/openfoodfacts/world-food-facts/data"
   ]
  },
  {
   "cell_type": "markdown",
   "metadata": {},
   "source": [
    "### Step 2. Download the dataset to your computer and unzip it."
   ]
  },
  {
   "cell_type": "markdown",
   "metadata": {},
   "source": [
    "### Step 3. Use the tsv file and assign it to a dataframe called food"
   ]
  },
  {
   "cell_type": "code",
   "execution_count": 1,
   "metadata": {
    "collapsed": true
   },
   "outputs": [
    {
     "name": "stderr",
     "output_type": "stream",
     "text": [
      "25/05/30 11:53:57 WARN Utils: Your hostname, kevin-llanos-Type1ProductConfigId resolves to a loopback address: 127.0.1.1; using 192.168.1.92 instead (on interface wlo1)\n",
      "25/05/30 11:53:57 WARN Utils: Set SPARK_LOCAL_IP if you need to bind to another address\n",
      "Setting default log level to \"WARN\".\n",
      "To adjust logging level use sc.setLogLevel(newLevel). For SparkR, use setLogLevel(newLevel).\n",
      "25/05/30 11:53:58 WARN NativeCodeLoader: Unable to load native-hadoop library for your platform... using builtin-java classes where applicable\n"
     ]
    }
   ],
   "source": [
    "from pyspark.sql import SparkSession\n",
    "import pandas as pd\n",
    "\n",
    "\n",
    "spark = SparkSession.builder\\\n",
    "                   .appName('food')\\\n",
    "                   .getOrCreate()\n",
    "\n"
   ]
  },
  {
   "cell_type": "code",
   "execution_count": 2,
   "metadata": {},
   "outputs": [
    {
     "name": "stderr",
     "output_type": "stream",
     "text": [
      "                                                                                \r"
     ]
    }
   ],
   "source": [
    "food = spark.read.csv('data/en.openfoodfacts.org.products.tsv', sep='\\t', header=True)\n"
   ]
  },
  {
   "cell_type": "markdown",
   "metadata": {},
   "source": [
    "### Step 4. See the first 5 entries"
   ]
  },
  {
   "cell_type": "code",
   "execution_count": 3,
   "metadata": {
    "collapsed": true
   },
   "outputs": [
    {
     "name": "stderr",
     "output_type": "stream",
     "text": [
      "25/05/30 11:54:08 WARN SparkStringUtils: Truncated the string representation of a plan since it was too large. This behavior can be adjusted by setting 'spark.sql.debug.maxToStringFields'.\n",
      "                                                                                \r"
     ]
    },
    {
     "name": "stdout",
     "output_type": "stream",
     "text": [
      "+-------------+--------------------+--------------------+----------+--------------------+---------------+----------------------+--------------------+------------+--------+---------+--------------+---------------+---------------+----------+---------------+-------------+-------+------------+--------------------+-------------------------+------+-----------+---------+---------+--------------+------------------------+------+-----------+---------------+------+---------+----------------+-------------+--------------------+---------+------------+------+-----------+---------+---------------+-------------+-----------+--------------------+--------------+------------+---------------------------+-------------------------+------------------------------+---------------------------------------+-------------------------------------+------------------------------------------+------------------+------------------+-------------+-------------+--------------------+--------------------+--------------------+-------------+----------------+---------+---------------+-----------+--------------------+--------+------------------+------------------+------------------+-------------------+-----------------+-----------------+-------------------+-------------------+------------------+--------------------+------------------+---------------------+------------------+-------------------+-------------------+------------------------+------------------------+----------------+--------------------------+---------------------------+--------------------------+----------------+-------------------+----------------------+--------------------------+---------------------------------+----------------+----------------+------------------+------------------+---------------+-----------------+-------------------+--------------+----------------+------------------+-----------+-------------+-------------+--------------+-------------+-------------+-------------------+-----------+------------+----------+-------------+-----------+-------------------+----------------+---------+-----------+------------+--------------+------------------+--------------+--------------+--------------+--------------+---------------+---------------+---------------+---------------+---------------+------------+----------------+-----------+---------------------+-----------+----------------+--------------+-------------+------------+---------------+---------+--------------+---------+-----------+--------------+-------------+-------------+-------------+---------------+-----------+-------------+------------+-------+---------------------------+------------------------------------+--------------------------------+----------+---------------+---------------------+-----------------------+-----------------------+-------------------+-------------------+\n",
      "|         code|                 url|             creator| created_t|    created_datetime|last_modified_t|last_modified_datetime|        product_name|generic_name|quantity|packaging|packaging_tags|         brands|    brands_tags|categories|categories_tags|categories_en|origins|origins_tags|manufacturing_places|manufacturing_places_tags|labels|labels_tags|labels_en|emb_codes|emb_codes_tags|first_packaging_code_geo|cities|cities_tags|purchase_places|stores|countries|  countries_tags| countries_en|    ingredients_text|allergens|allergens_en|traces|traces_tags|traces_en|   serving_size|no_nutriments|additives_n|           additives|additives_tags|additives_en|ingredients_from_palm_oil_n|ingredients_from_palm_oil|ingredients_from_palm_oil_tags|ingredients_that_may_be_from_palm_oil_n|ingredients_that_may_be_from_palm_oil|ingredients_that_may_be_from_palm_oil_tags|nutrition_grade_uk|nutrition_grade_fr|pnns_groups_1|pnns_groups_2|              states|         states_tags|           states_en|main_category|main_category_en|image_url|image_small_url|energy_100g|energy-from-fat_100g|fat_100g|saturated-fat_100g|-butyric-acid_100g|-caproic-acid_100g|-caprylic-acid_100g|-capric-acid_100g|-lauric-acid_100g|-myristic-acid_100g|-palmitic-acid_100g|-stearic-acid_100g|-arachidic-acid_100g|-behenic-acid_100g|-lignoceric-acid_100g|-cerotic-acid_100g|-montanic-acid_100g|-melissic-acid_100g|monounsaturated-fat_100g|polyunsaturated-fat_100g|omega-3-fat_100g|-alpha-linolenic-acid_100g|-eicosapentaenoic-acid_100g|-docosahexaenoic-acid_100g|omega-6-fat_100g|-linoleic-acid_100g|-arachidonic-acid_100g|-gamma-linolenic-acid_100g|-dihomo-gamma-linolenic-acid_100g|omega-9-fat_100g|-oleic-acid_100g|-elaidic-acid_100g|-gondoic-acid_100g|-mead-acid_100g|-erucic-acid_100g|-nervonic-acid_100g|trans-fat_100g|cholesterol_100g|carbohydrates_100g|sugars_100g|-sucrose_100g|-glucose_100g|-fructose_100g|-lactose_100g|-maltose_100g|-maltodextrins_100g|starch_100g|polyols_100g|fiber_100g|proteins_100g|casein_100g|serum-proteins_100g|nucleotides_100g|salt_100g|sodium_100g|alcohol_100g|vitamin-a_100g|beta-carotene_100g|vitamin-d_100g|vitamin-e_100g|vitamin-k_100g|vitamin-c_100g|vitamin-b1_100g|vitamin-b2_100g|vitamin-pp_100g|vitamin-b6_100g|vitamin-b9_100g|folates_100g|vitamin-b12_100g|biotin_100g|pantothenic-acid_100g|silica_100g|bicarbonate_100g|potassium_100g|chloride_100g|calcium_100g|phosphorus_100g|iron_100g|magnesium_100g|zinc_100g|copper_100g|manganese_100g|fluoride_100g|selenium_100g|chromium_100g|molybdenum_100g|iodine_100g|caffeine_100g|taurine_100g|ph_100g|fruits-vegetables-nuts_100g|fruits-vegetables-nuts-estimate_100g|collagen-meat-protein-ratio_100g|cocoa_100g|chlorophyl_100g|carbon-footprint_100g|nutrition-score-fr_100g|nutrition-score-uk_100g|glycemic-index_100g|water-hardness_100g|\n",
      "+-------------+--------------------+--------------------+----------+--------------------+---------------+----------------------+--------------------+------------+--------+---------+--------------+---------------+---------------+----------+---------------+-------------+-------+------------+--------------------+-------------------------+------+-----------+---------+---------+--------------+------------------------+------+-----------+---------------+------+---------+----------------+-------------+--------------------+---------+------------+------+-----------+---------+---------------+-------------+-----------+--------------------+--------------+------------+---------------------------+-------------------------+------------------------------+---------------------------------------+-------------------------------------+------------------------------------------+------------------+------------------+-------------+-------------+--------------------+--------------------+--------------------+-------------+----------------+---------+---------------+-----------+--------------------+--------+------------------+------------------+------------------+-------------------+-----------------+-----------------+-------------------+-------------------+------------------+--------------------+------------------+---------------------+------------------+-------------------+-------------------+------------------------+------------------------+----------------+--------------------------+---------------------------+--------------------------+----------------+-------------------+----------------------+--------------------------+---------------------------------+----------------+----------------+------------------+------------------+---------------+-----------------+-------------------+--------------+----------------+------------------+-----------+-------------+-------------+--------------+-------------+-------------+-------------------+-----------+------------+----------+-------------+-----------+-------------------+----------------+---------+-----------+------------+--------------+------------------+--------------+--------------+--------------+--------------+---------------+---------------+---------------+---------------+---------------+------------+----------------+-----------+---------------------+-----------+----------------+--------------+-------------+------------+---------------+---------+--------------+---------+-----------+--------------+-------------+-------------+-------------+---------------+-----------+-------------+------------+-------+---------------------------+------------------------------------+--------------------------------+----------+---------------+---------------------+-----------------------+-----------------------+-------------------+-------------------+\n",
      "|0000000003087|http://world-en.o...|openfoodfacts-con...|1474103866|2016-09-17T09:17:46Z|     1474103893|  2016-09-17T09:18:13Z|  Farine de blé noir|        NULL|     1kg|     NULL|          NULL|Ferme t'y R'nao|ferme-t-y-r-nao|      NULL|           NULL|         NULL|   NULL|        NULL|                NULL|                     NULL|  NULL|       NULL|     NULL|     NULL|          NULL|                    NULL|  NULL|       NULL|           NULL|  NULL|    en:FR|       en:france|       France|                NULL|     NULL|        NULL|  NULL|       NULL|     NULL|           NULL|         NULL|       NULL|                NULL|          NULL|        NULL|                       NULL|                     NULL|                          NULL|                                   NULL|                                 NULL|                                      NULL|              NULL|              NULL|         NULL|         NULL|en:to-be-complete...|en:to-be-complete...|To be completed,N...|         NULL|            NULL|     NULL|           NULL|       NULL|                NULL|    NULL|              NULL|              NULL|              NULL|               NULL|             NULL|             NULL|               NULL|               NULL|              NULL|                NULL|              NULL|                 NULL|              NULL|               NULL|               NULL|                    NULL|                    NULL|            NULL|                      NULL|                       NULL|                      NULL|            NULL|               NULL|                  NULL|                      NULL|                             NULL|            NULL|            NULL|              NULL|              NULL|           NULL|             NULL|               NULL|          NULL|            NULL|              NULL|       NULL|         NULL|         NULL|          NULL|         NULL|         NULL|               NULL|       NULL|        NULL|      NULL|         NULL|       NULL|               NULL|            NULL|     NULL|       NULL|        NULL|          NULL|              NULL|          NULL|          NULL|          NULL|          NULL|           NULL|           NULL|           NULL|           NULL|           NULL|        NULL|            NULL|       NULL|                 NULL|       NULL|            NULL|          NULL|         NULL|        NULL|           NULL|     NULL|          NULL|     NULL|       NULL|          NULL|         NULL|         NULL|         NULL|           NULL|       NULL|         NULL|        NULL|   NULL|                       NULL|                                NULL|                            NULL|      NULL|           NULL|                 NULL|                   NULL|                   NULL|               NULL|               NULL|\n",
      "|0000000004530|http://world-en.o...|     usda-ndb-import|1489069957|2017-03-09T14:32:37Z|     1489069957|  2017-03-09T14:32:37Z|Banana Chips Swee...|        NULL|    NULL|     NULL|          NULL|           NULL|           NULL|      NULL|           NULL|         NULL|   NULL|        NULL|                NULL|                     NULL|  NULL|       NULL|     NULL|     NULL|          NULL|                    NULL|  NULL|       NULL|           NULL|  NULL|       US|en:united-states|United States|Bananas, vegetabl...|     NULL|        NULL|  NULL|       NULL|     NULL|   28 g (1 ONZ)|         NULL|          0| [ bananas -> en:...|          NULL|        NULL|                          0|                     NULL|                          NULL|                                      0|                                 NULL|                                      NULL|              NULL|                 d|         NULL|         NULL|en:to-be-complete...|en:to-be-complete...|To be completed,N...|         NULL|            NULL|     NULL|           NULL|       2243|                NULL|   28.57|             28.57|              NULL|              NULL|               NULL|             NULL|             NULL|               NULL|               NULL|              NULL|                NULL|              NULL|                 NULL|              NULL|               NULL|               NULL|                    NULL|                    NULL|            NULL|                      NULL|                       NULL|                      NULL|            NULL|               NULL|                  NULL|                      NULL|                             NULL|            NULL|            NULL|              NULL|              NULL|           NULL|             NULL|               NULL|             0|           0.018|             64.29|      14.29|         NULL|         NULL|          NULL|         NULL|         NULL|               NULL|       NULL|        NULL|       3.6|         3.57|       NULL|               NULL|            NULL|        0|          0|        NULL|             0|              NULL|          NULL|          NULL|          NULL|        0.0214|           NULL|           NULL|           NULL|           NULL|           NULL|        NULL|            NULL|       NULL|                 NULL|       NULL|            NULL|          NULL|         NULL|           0|           NULL|  0.00129|          NULL|     NULL|       NULL|          NULL|         NULL|         NULL|         NULL|           NULL|       NULL|         NULL|        NULL|   NULL|                       NULL|                                NULL|                            NULL|      NULL|           NULL|                 NULL|                     14|                     14|               NULL|               NULL|\n",
      "|0000000004559|http://world-en.o...|     usda-ndb-import|1489069957|2017-03-09T14:32:37Z|     1489069957|  2017-03-09T14:32:37Z|             Peanuts|        NULL|    NULL|     NULL|          NULL| Torn & Glasser|   torn-glasser|      NULL|           NULL|         NULL|   NULL|        NULL|                NULL|                     NULL|  NULL|       NULL|     NULL|     NULL|          NULL|                    NULL|  NULL|       NULL|           NULL|  NULL|       US|en:united-states|United States|Peanuts, wheat fl...|     NULL|        NULL|  NULL|       NULL|     NULL|28 g (0.25 cup)|         NULL|          0| [ peanuts -> en:...|          NULL|        NULL|                          0|                     NULL|                          NULL|                                      0|                                 NULL|                                      NULL|              NULL|                 b|         NULL|         NULL|en:to-be-complete...|en:to-be-complete...|To be completed,N...|         NULL|            NULL|     NULL|           NULL|       1941|                NULL|   17.86|                 0|              NULL|              NULL|               NULL|             NULL|             NULL|               NULL|               NULL|              NULL|                NULL|              NULL|                 NULL|              NULL|               NULL|               NULL|                    NULL|                    NULL|            NULL|                      NULL|                       NULL|                      NULL|            NULL|               NULL|                  NULL|                      NULL|                             NULL|            NULL|            NULL|              NULL|              NULL|           NULL|             NULL|               NULL|             0|               0|             60.71|      17.86|         NULL|         NULL|          NULL|         NULL|         NULL|               NULL|       NULL|        NULL|       7.1|        17.86|       NULL|               NULL|            NULL|    0.635|       0.25|        NULL|             0|              NULL|          NULL|          NULL|          NULL|             0|           NULL|           NULL|           NULL|           NULL|           NULL|        NULL|            NULL|       NULL|                 NULL|       NULL|            NULL|          NULL|         NULL|       0.071|           NULL|  0.00129|          NULL|     NULL|       NULL|          NULL|         NULL|         NULL|         NULL|           NULL|       NULL|         NULL|        NULL|   NULL|                       NULL|                                NULL|                            NULL|      NULL|           NULL|                 NULL|                      0|                      0|               NULL|               NULL|\n",
      "|0000000016087|http://world-en.o...|     usda-ndb-import|1489055731|2017-03-09T10:35:31Z|     1489055731|  2017-03-09T10:35:31Z|Organic Salted Nu...|        NULL|    NULL|     NULL|          NULL|      Grizzlies|      grizzlies|      NULL|           NULL|         NULL|   NULL|        NULL|                NULL|                     NULL|  NULL|       NULL|     NULL|     NULL|          NULL|                    NULL|  NULL|       NULL|           NULL|  NULL|       US|en:united-states|United States|Organic hazelnuts...|     NULL|        NULL|  NULL|       NULL|     NULL|28 g (0.25 cup)|         NULL|          0| [ organic-hazeln...|          NULL|        NULL|                          0|                     NULL|                          NULL|                                      0|                                 NULL|                                      NULL|              NULL|                 d|         NULL|         NULL|en:to-be-complete...|en:to-be-complete...|To be completed,N...|         NULL|            NULL|     NULL|           NULL|       2540|                NULL|   57.14|              5.36|              NULL|              NULL|               NULL|             NULL|             NULL|               NULL|               NULL|              NULL|                NULL|              NULL|                 NULL|              NULL|               NULL|               NULL|                    NULL|                    NULL|            NULL|                      NULL|                       NULL|                      NULL|            NULL|               NULL|                  NULL|                      NULL|                             NULL|            NULL|            NULL|              NULL|              NULL|           NULL|             NULL|               NULL|          NULL|            NULL|             17.86|       3.57|         NULL|         NULL|          NULL|         NULL|         NULL|               NULL|       NULL|        NULL|       7.1|        17.86|       NULL|               NULL|            NULL|  1.22428|      0.482|        NULL|          NULL|              NULL|          NULL|          NULL|          NULL|          NULL|           NULL|           NULL|           NULL|           NULL|           NULL|        NULL|            NULL|       NULL|                 NULL|       NULL|            NULL|          NULL|         NULL|       0.143|           NULL|  0.00514|          NULL|     NULL|       NULL|          NULL|         NULL|         NULL|         NULL|           NULL|       NULL|         NULL|        NULL|   NULL|                       NULL|                                NULL|                            NULL|      NULL|           NULL|                 NULL|                     12|                     12|               NULL|               NULL|\n",
      "|0000000016094|http://world-en.o...|     usda-ndb-import|1489055653|2017-03-09T10:34:13Z|     1489055653|  2017-03-09T10:34:13Z|     Organic Polenta|        NULL|    NULL|     NULL|          NULL| Bob's Red Mill| bob-s-red-mill|      NULL|           NULL|         NULL|   NULL|        NULL|                NULL|                     NULL|  NULL|       NULL|     NULL|     NULL|          NULL|                    NULL|  NULL|       NULL|           NULL|  NULL|       US|en:united-states|United States|     Organic polenta|     NULL|        NULL|  NULL|       NULL|     NULL|35 g (0.25 cup)|         NULL|          0| [ organic-polent...|          NULL|        NULL|                          0|                     NULL|                          NULL|                                      0|                                 NULL|                                      NULL|              NULL|              NULL|         NULL|         NULL|en:to-be-complete...|en:to-be-complete...|To be completed,N...|         NULL|            NULL|     NULL|           NULL|       1552|                NULL|    1.43|              NULL|              NULL|              NULL|               NULL|             NULL|             NULL|               NULL|               NULL|              NULL|                NULL|              NULL|                 NULL|              NULL|               NULL|               NULL|                    NULL|                    NULL|            NULL|                      NULL|                       NULL|                      NULL|            NULL|               NULL|                  NULL|                      NULL|                             NULL|            NULL|            NULL|              NULL|              NULL|           NULL|             NULL|               NULL|          NULL|            NULL|             77.14|       NULL|         NULL|         NULL|          NULL|         NULL|         NULL|               NULL|       NULL|        NULL|       5.7|         8.57|       NULL|               NULL|            NULL|     NULL|       NULL|        NULL|          NULL|              NULL|          NULL|          NULL|          NULL|          NULL|           NULL|           NULL|           NULL|           NULL|           NULL|        NULL|            NULL|       NULL|                 NULL|       NULL|            NULL|          NULL|         NULL|        NULL|           NULL|     NULL|          NULL|     NULL|       NULL|          NULL|         NULL|         NULL|         NULL|           NULL|       NULL|         NULL|        NULL|   NULL|                       NULL|                                NULL|                            NULL|      NULL|           NULL|                 NULL|                   NULL|                   NULL|               NULL|               NULL|\n",
      "+-------------+--------------------+--------------------+----------+--------------------+---------------+----------------------+--------------------+------------+--------+---------+--------------+---------------+---------------+----------+---------------+-------------+-------+------------+--------------------+-------------------------+------+-----------+---------+---------+--------------+------------------------+------+-----------+---------------+------+---------+----------------+-------------+--------------------+---------+------------+------+-----------+---------+---------------+-------------+-----------+--------------------+--------------+------------+---------------------------+-------------------------+------------------------------+---------------------------------------+-------------------------------------+------------------------------------------+------------------+------------------+-------------+-------------+--------------------+--------------------+--------------------+-------------+----------------+---------+---------------+-----------+--------------------+--------+------------------+------------------+------------------+-------------------+-----------------+-----------------+-------------------+-------------------+------------------+--------------------+------------------+---------------------+------------------+-------------------+-------------------+------------------------+------------------------+----------------+--------------------------+---------------------------+--------------------------+----------------+-------------------+----------------------+--------------------------+---------------------------------+----------------+----------------+------------------+------------------+---------------+-----------------+-------------------+--------------+----------------+------------------+-----------+-------------+-------------+--------------+-------------+-------------+-------------------+-----------+------------+----------+-------------+-----------+-------------------+----------------+---------+-----------+------------+--------------+------------------+--------------+--------------+--------------+--------------+---------------+---------------+---------------+---------------+---------------+------------+----------------+-----------+---------------------+-----------+----------------+--------------+-------------+------------+---------------+---------+--------------+---------+-----------+--------------+-------------+-------------+-------------+---------------+-----------+-------------+------------+-------+---------------------------+------------------------------------+--------------------------------+----------+---------------+---------------------+-----------------------+-----------------------+-------------------+-------------------+\n",
      "only showing top 5 rows\n",
      "\n"
     ]
    }
   ],
   "source": [
    "food.show(\n",
    "    5\n",
    ")"
   ]
  },
  {
   "cell_type": "markdown",
   "metadata": {},
   "source": [
    "### Step 5. What is the number of observations in the dataset?"
   ]
  },
  {
   "cell_type": "code",
   "execution_count": 4,
   "metadata": {
    "collapsed": true
   },
   "outputs": [
    {
     "name": "stderr",
     "output_type": "stream",
     "text": [
      "                                                                                \r"
     ]
    },
    {
     "data": {
      "text/plain": [
       "356027"
      ]
     },
     "execution_count": 4,
     "metadata": {},
     "output_type": "execute_result"
    }
   ],
   "source": [
    "food.count()"
   ]
  },
  {
   "cell_type": "markdown",
   "metadata": {},
   "source": [
    "### Step 6. What is the number of columns in the dataset?"
   ]
  },
  {
   "cell_type": "code",
   "execution_count": 5,
   "metadata": {
    "collapsed": true
   },
   "outputs": [
    {
     "name": "stdout",
     "output_type": "stream",
     "text": [
      "El numero de cols es de 163\n"
     ]
    }
   ],
   "source": [
    "n_cols = len(food.columns)\n",
    "\n",
    "print('El numero de cols es de %s' %n_cols)"
   ]
  },
  {
   "cell_type": "markdown",
   "metadata": {},
   "source": [
    "### Step 7. Print the name of all the columns."
   ]
  },
  {
   "cell_type": "code",
   "execution_count": 6,
   "metadata": {
    "collapsed": true
   },
   "outputs": [
    {
     "data": {
      "text/plain": [
       "['Columna code',\n",
       " 'Columna url',\n",
       " 'Columna creator',\n",
       " 'Columna created_t',\n",
       " 'Columna created_datetime',\n",
       " 'Columna last_modified_t',\n",
       " 'Columna last_modified_datetime',\n",
       " 'Columna product_name',\n",
       " 'Columna generic_name',\n",
       " 'Columna quantity',\n",
       " 'Columna packaging',\n",
       " 'Columna packaging_tags',\n",
       " 'Columna brands',\n",
       " 'Columna brands_tags',\n",
       " 'Columna categories',\n",
       " 'Columna categories_tags',\n",
       " 'Columna categories_en',\n",
       " 'Columna origins',\n",
       " 'Columna origins_tags',\n",
       " 'Columna manufacturing_places',\n",
       " 'Columna manufacturing_places_tags',\n",
       " 'Columna labels',\n",
       " 'Columna labels_tags',\n",
       " 'Columna labels_en',\n",
       " 'Columna emb_codes',\n",
       " 'Columna emb_codes_tags',\n",
       " 'Columna first_packaging_code_geo',\n",
       " 'Columna cities',\n",
       " 'Columna cities_tags',\n",
       " 'Columna purchase_places',\n",
       " 'Columna stores',\n",
       " 'Columna countries',\n",
       " 'Columna countries_tags',\n",
       " 'Columna countries_en',\n",
       " 'Columna ingredients_text',\n",
       " 'Columna allergens',\n",
       " 'Columna allergens_en',\n",
       " 'Columna traces',\n",
       " 'Columna traces_tags',\n",
       " 'Columna traces_en',\n",
       " 'Columna serving_size',\n",
       " 'Columna no_nutriments',\n",
       " 'Columna additives_n',\n",
       " 'Columna additives',\n",
       " 'Columna additives_tags',\n",
       " 'Columna additives_en',\n",
       " 'Columna ingredients_from_palm_oil_n',\n",
       " 'Columna ingredients_from_palm_oil',\n",
       " 'Columna ingredients_from_palm_oil_tags',\n",
       " 'Columna ingredients_that_may_be_from_palm_oil_n',\n",
       " 'Columna ingredients_that_may_be_from_palm_oil',\n",
       " 'Columna ingredients_that_may_be_from_palm_oil_tags',\n",
       " 'Columna nutrition_grade_uk',\n",
       " 'Columna nutrition_grade_fr',\n",
       " 'Columna pnns_groups_1',\n",
       " 'Columna pnns_groups_2',\n",
       " 'Columna states',\n",
       " 'Columna states_tags',\n",
       " 'Columna states_en',\n",
       " 'Columna main_category',\n",
       " 'Columna main_category_en',\n",
       " 'Columna image_url',\n",
       " 'Columna image_small_url',\n",
       " 'Columna energy_100g',\n",
       " 'Columna energy-from-fat_100g',\n",
       " 'Columna fat_100g',\n",
       " 'Columna saturated-fat_100g',\n",
       " 'Columna -butyric-acid_100g',\n",
       " 'Columna -caproic-acid_100g',\n",
       " 'Columna -caprylic-acid_100g',\n",
       " 'Columna -capric-acid_100g',\n",
       " 'Columna -lauric-acid_100g',\n",
       " 'Columna -myristic-acid_100g',\n",
       " 'Columna -palmitic-acid_100g',\n",
       " 'Columna -stearic-acid_100g',\n",
       " 'Columna -arachidic-acid_100g',\n",
       " 'Columna -behenic-acid_100g',\n",
       " 'Columna -lignoceric-acid_100g',\n",
       " 'Columna -cerotic-acid_100g',\n",
       " 'Columna -montanic-acid_100g',\n",
       " 'Columna -melissic-acid_100g',\n",
       " 'Columna monounsaturated-fat_100g',\n",
       " 'Columna polyunsaturated-fat_100g',\n",
       " 'Columna omega-3-fat_100g',\n",
       " 'Columna -alpha-linolenic-acid_100g',\n",
       " 'Columna -eicosapentaenoic-acid_100g',\n",
       " 'Columna -docosahexaenoic-acid_100g',\n",
       " 'Columna omega-6-fat_100g',\n",
       " 'Columna -linoleic-acid_100g',\n",
       " 'Columna -arachidonic-acid_100g',\n",
       " 'Columna -gamma-linolenic-acid_100g',\n",
       " 'Columna -dihomo-gamma-linolenic-acid_100g',\n",
       " 'Columna omega-9-fat_100g',\n",
       " 'Columna -oleic-acid_100g',\n",
       " 'Columna -elaidic-acid_100g',\n",
       " 'Columna -gondoic-acid_100g',\n",
       " 'Columna -mead-acid_100g',\n",
       " 'Columna -erucic-acid_100g',\n",
       " 'Columna -nervonic-acid_100g',\n",
       " 'Columna trans-fat_100g',\n",
       " 'Columna cholesterol_100g',\n",
       " 'Columna carbohydrates_100g',\n",
       " 'Columna sugars_100g',\n",
       " 'Columna -sucrose_100g',\n",
       " 'Columna -glucose_100g',\n",
       " 'Columna -fructose_100g',\n",
       " 'Columna -lactose_100g',\n",
       " 'Columna -maltose_100g',\n",
       " 'Columna -maltodextrins_100g',\n",
       " 'Columna starch_100g',\n",
       " 'Columna polyols_100g',\n",
       " 'Columna fiber_100g',\n",
       " 'Columna proteins_100g',\n",
       " 'Columna casein_100g',\n",
       " 'Columna serum-proteins_100g',\n",
       " 'Columna nucleotides_100g',\n",
       " 'Columna salt_100g',\n",
       " 'Columna sodium_100g',\n",
       " 'Columna alcohol_100g',\n",
       " 'Columna vitamin-a_100g',\n",
       " 'Columna beta-carotene_100g',\n",
       " 'Columna vitamin-d_100g',\n",
       " 'Columna vitamin-e_100g',\n",
       " 'Columna vitamin-k_100g',\n",
       " 'Columna vitamin-c_100g',\n",
       " 'Columna vitamin-b1_100g',\n",
       " 'Columna vitamin-b2_100g',\n",
       " 'Columna vitamin-pp_100g',\n",
       " 'Columna vitamin-b6_100g',\n",
       " 'Columna vitamin-b9_100g',\n",
       " 'Columna folates_100g',\n",
       " 'Columna vitamin-b12_100g',\n",
       " 'Columna biotin_100g',\n",
       " 'Columna pantothenic-acid_100g',\n",
       " 'Columna silica_100g',\n",
       " 'Columna bicarbonate_100g',\n",
       " 'Columna potassium_100g',\n",
       " 'Columna chloride_100g',\n",
       " 'Columna calcium_100g',\n",
       " 'Columna phosphorus_100g',\n",
       " 'Columna iron_100g',\n",
       " 'Columna magnesium_100g',\n",
       " 'Columna zinc_100g',\n",
       " 'Columna copper_100g',\n",
       " 'Columna manganese_100g',\n",
       " 'Columna fluoride_100g',\n",
       " 'Columna selenium_100g',\n",
       " 'Columna chromium_100g',\n",
       " 'Columna molybdenum_100g',\n",
       " 'Columna iodine_100g',\n",
       " 'Columna caffeine_100g',\n",
       " 'Columna taurine_100g',\n",
       " 'Columna ph_100g',\n",
       " 'Columna fruits-vegetables-nuts_100g',\n",
       " 'Columna fruits-vegetables-nuts-estimate_100g',\n",
       " 'Columna collagen-meat-protein-ratio_100g',\n",
       " 'Columna cocoa_100g',\n",
       " 'Columna chlorophyl_100g',\n",
       " 'Columna carbon-footprint_100g',\n",
       " 'Columna nutrition-score-fr_100g',\n",
       " 'Columna nutrition-score-uk_100g',\n",
       " 'Columna glycemic-index_100g',\n",
       " 'Columna water-hardness_100g']"
      ]
     },
     "execution_count": 6,
     "metadata": {},
     "output_type": "execute_result"
    }
   ],
   "source": [
    "[f'Columna {col}' for col in food.columns]"
   ]
  },
  {
   "cell_type": "markdown",
   "metadata": {},
   "source": [
    "### Step 8. What is the name of 105th column?"
   ]
  },
  {
   "cell_type": "code",
   "execution_count": 7,
   "metadata": {
    "collapsed": true
   },
   "outputs": [
    {
     "data": {
      "text/plain": [
       "'Columna -glucose_100g'"
      ]
     },
     "execution_count": 7,
     "metadata": {},
     "output_type": "execute_result"
    },
    {
     "name": "stderr",
     "output_type": "stream",
     "text": [
      "25/05/30 11:54:12 WARN GarbageCollectionMetrics: To enable non-built-in garbage collector(s) List(G1 Concurrent GC), users should configure it(them) to spark.eventLog.gcMetrics.youngGenerationGarbageCollectors or spark.eventLog.gcMetrics.oldGenerationGarbageCollectors\n"
     ]
    }
   ],
   "source": [
    "[f'Columna {col}' for col in food.columns][104]"
   ]
  },
  {
   "cell_type": "markdown",
   "metadata": {},
   "source": [
    "### Step 9. What is the type of the observations of the 105th column?"
   ]
  },
  {
   "cell_type": "code",
   "execution_count": 14,
   "metadata": {
    "collapsed": true
   },
   "outputs": [
    {
     "data": {
      "text/plain": [
       "DataFrame[-glucose_100g: string]"
      ]
     },
     "execution_count": 14,
     "metadata": {},
     "output_type": "execute_result"
    }
   ],
   "source": [
    "col = food.columns[104]\n",
    "\n",
    "food.select(col)"
   ]
  },
  {
   "cell_type": "markdown",
   "metadata": {},
   "source": [
    "### Step 10. How is the dataset indexed?"
   ]
  },
  {
   "cell_type": "code",
   "execution_count": null,
   "metadata": {
    "collapsed": true
   },
   "outputs": [],
   "source": []
  },
  {
   "cell_type": "markdown",
   "metadata": {},
   "source": [
    "### Step 11. What is the product name of the 19th observation?"
   ]
  },
  {
   "cell_type": "code",
   "execution_count": 27,
   "metadata": {
    "collapsed": true
   },
   "outputs": [
    {
     "data": {
      "text/plain": [
       "'Lotus Organic Brown Jasmine Rice'"
      ]
     },
     "execution_count": 27,
     "metadata": {},
     "output_type": "execute_result"
    }
   ],
   "source": [
    "observ = food.take(19)[18]\n",
    "\n",
    "observ['product_name']\n"
   ]
  },
  {
   "cell_type": "code",
   "execution_count": null,
   "metadata": {},
   "outputs": [],
   "source": []
  }
 ],
 "metadata": {
  "anaconda-cloud": {},
  "kernelspec": {
   "display_name": "myenv_",
   "language": "python",
   "name": "python3"
  },
  "language_info": {
   "codemirror_mode": {
    "name": "ipython",
    "version": 3
   },
   "file_extension": ".py",
   "mimetype": "text/x-python",
   "name": "python",
   "nbconvert_exporter": "python",
   "pygments_lexer": "ipython3",
   "version": "3.10.17"
  }
 },
 "nbformat": 4,
 "nbformat_minor": 0
}
