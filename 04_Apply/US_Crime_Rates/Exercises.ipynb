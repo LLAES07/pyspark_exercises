{
 "cells": [
  {
   "cell_type": "markdown",
   "metadata": {},
   "source": [
    "# United States - Crime Rates - 1960 - 2014"
   ]
  },
  {
   "cell_type": "markdown",
   "metadata": {},
   "source": [
    "### Introduction:\n",
    "\n",
    "This time you will create a data \n",
    "\n",
    "Special thanks to: https://github.com/justmarkham for sharing the dataset and materials.\n",
    "\n",
    "### Step 1. Import the necessary libraries"
   ]
  },
  {
   "cell_type": "code",
   "execution_count": 5,
   "metadata": {
    "collapsed": false
   },
   "outputs": [
    {
     "name": "stderr",
     "output_type": "stream",
     "text": [
      "25/06/12 16:39:11 WARN Utils: Your hostname, kevin-llanos-Type1ProductConfigId resolves to a loopback address: 127.0.1.1; using 192.168.1.88 instead (on interface wlo1)\n",
      "25/06/12 16:39:11 WARN Utils: Set SPARK_LOCAL_IP if you need to bind to another address\n",
      "Setting default log level to \"WARN\".\n",
      "To adjust logging level use sc.setLogLevel(newLevel). For SparkR, use setLogLevel(newLevel).\n",
      "25/06/12 16:39:11 WARN NativeCodeLoader: Unable to load native-hadoop library for your platform... using builtin-java classes where applicable\n"
     ]
    },
    {
     "name": "stderr",
     "output_type": "stream",
     "text": [
      "25/06/12 16:39:24 WARN GarbageCollectionMetrics: To enable non-built-in garbage collector(s) List(G1 Concurrent GC), users should configure it(them) to spark.eventLog.gcMetrics.youngGenerationGarbageCollectors or spark.eventLog.gcMetrics.oldGenerationGarbageCollectors\n"
     ]
    }
   ],
   "source": [
    "import pandas as pd\n",
    "from pyspark.sql import SparkSession\n",
    "from pyspark.sql import functions as F\n",
    "from pyspark.sql import types as T\n",
    "import requests\n",
    "\n",
    "spark = SparkSession.builder\\\n",
    "                    .appName('crimess')\\\n",
    "                    .getOrCreate()"
   ]
  },
  {
   "cell_type": "markdown",
   "metadata": {},
   "source": [
    "### Step 2. Import the dataset from this [address](https://raw.githubusercontent.com/guipsamora/pandas_exercises/master/04_Apply/US_Crime_Rates/US_Crime_Rates_1960_2014.csv). "
   ]
  },
  {
   "cell_type": "markdown",
   "metadata": {},
   "source": [
    "### Step 3. Assign it to a variable called crime."
   ]
  },
  {
   "cell_type": "code",
   "execution_count": 6,
   "metadata": {
    "collapsed": false
   },
   "outputs": [],
   "source": [
    "url = 'https://raw.githubusercontent.com/guipsamora/pandas_exercises/master/04_Apply/US_Crime_Rates/US_Crime_Rates_1960_2014.csv'\n",
    "\n",
    "request_url = requests.get(url)\n",
    "\n",
    "with open('data.csv', 'w', encoding='utf-8') as f:\n",
    "    f.write(request_url.text)\n",
    "    \n",
    "crime = spark.read.csv('data.csv', sep=',', header=True)\n",
    "\n",
    "df_crime = pd.read_csv('data.csv', sep=',', header=0)"
   ]
  },
  {
   "cell_type": "markdown",
   "metadata": {},
   "source": [
    "### Step 4. What is the type of the columns?"
   ]
  },
  {
   "cell_type": "code",
   "execution_count": 7,
   "metadata": {
    "collapsed": false
   },
   "outputs": [
    {
     "name": "stdout",
     "output_type": "stream",
     "text": [
      "root\n",
      " |-- Year: string (nullable = true)\n",
      " |-- Population: string (nullable = true)\n",
      " |-- Total: string (nullable = true)\n",
      " |-- Violent: string (nullable = true)\n",
      " |-- Property: string (nullable = true)\n",
      " |-- Murder: string (nullable = true)\n",
      " |-- Forcible_Rape: string (nullable = true)\n",
      " |-- Robbery: string (nullable = true)\n",
      " |-- Aggravated_assault: string (nullable = true)\n",
      " |-- Burglary: string (nullable = true)\n",
      " |-- Larceny_Theft: string (nullable = true)\n",
      " |-- Vehicle_Theft: string (nullable = true)\n",
      "\n"
     ]
    }
   ],
   "source": [
    "crime.printSchema()"
   ]
  },
  {
   "cell_type": "code",
   "execution_count": 8,
   "metadata": {},
   "outputs": [
    {
     "name": "stdout",
     "output_type": "stream",
     "text": [
      "<class 'pandas.core.frame.DataFrame'>\n",
      "RangeIndex: 55 entries, 0 to 54\n",
      "Data columns (total 12 columns):\n",
      " #   Column              Non-Null Count  Dtype\n",
      "---  ------              --------------  -----\n",
      " 0   Year                55 non-null     int64\n",
      " 1   Population          55 non-null     int64\n",
      " 2   Total               55 non-null     int64\n",
      " 3   Violent             55 non-null     int64\n",
      " 4   Property            55 non-null     int64\n",
      " 5   Murder              55 non-null     int64\n",
      " 6   Forcible_Rape       55 non-null     int64\n",
      " 7   Robbery             55 non-null     int64\n",
      " 8   Aggravated_assault  55 non-null     int64\n",
      " 9   Burglary            55 non-null     int64\n",
      " 10  Larceny_Theft       55 non-null     int64\n",
      " 11  Vehicle_Theft       55 non-null     int64\n",
      "dtypes: int64(12)\n",
      "memory usage: 5.3 KB\n"
     ]
    }
   ],
   "source": [
    "df_crime.info()"
   ]
  },
  {
   "cell_type": "markdown",
   "metadata": {},
   "source": [
    "##### Have you noticed that the type of Year is int64. But pandas has a different type to work with Time Series. Let's see it now.\n",
    "\n",
    "### Step 5. Convert the type of the column Year to datetime64"
   ]
  },
  {
   "cell_type": "code",
   "execution_count": 15,
   "metadata": {
    "collapsed": false
   },
   "outputs": [
    {
     "name": "stdout",
     "output_type": "stream",
     "text": [
      "root\n",
      " |-- Year: integer (nullable = true)\n",
      " |-- Population: string (nullable = true)\n",
      " |-- Total: string (nullable = true)\n",
      " |-- Violent: string (nullable = true)\n",
      " |-- Property: string (nullable = true)\n",
      " |-- Murder: string (nullable = true)\n",
      " |-- Forcible_Rape: string (nullable = true)\n",
      " |-- Robbery: string (nullable = true)\n",
      " |-- Aggravated_assault: string (nullable = true)\n",
      " |-- Burglary: string (nullable = true)\n",
      " |-- Larceny_Theft: string (nullable = true)\n",
      " |-- Vehicle_Theft: string (nullable = true)\n",
      "\n"
     ]
    }
   ],
   "source": [
    "crime = crime.withColumn('Year', F.year(F.col('Year').cast(T.DateType())))\n",
    "crime.printSchema()"
   ]
  },
  {
   "cell_type": "code",
   "execution_count": 20,
   "metadata": {},
   "outputs": [
    {
     "data": {
      "text/plain": [
       "0    1970-01-01 00:00:00.000001960\n",
       "1    1970-01-01 00:00:00.000001961\n",
       "2    1970-01-01 00:00:00.000001962\n",
       "3    1970-01-01 00:00:00.000001963\n",
       "4    1970-01-01 00:00:00.000001964\n",
       "5    1970-01-01 00:00:00.000001965\n",
       "6    1970-01-01 00:00:00.000001966\n",
       "7    1970-01-01 00:00:00.000001967\n",
       "8    1970-01-01 00:00:00.000001968\n",
       "9    1970-01-01 00:00:00.000001969\n",
       "10   1970-01-01 00:00:00.000001970\n",
       "11   1970-01-01 00:00:00.000001971\n",
       "12   1970-01-01 00:00:00.000001972\n",
       "13   1970-01-01 00:00:00.000001973\n",
       "14   1970-01-01 00:00:00.000001974\n",
       "15   1970-01-01 00:00:00.000001975\n",
       "16   1970-01-01 00:00:00.000001976\n",
       "17   1970-01-01 00:00:00.000001977\n",
       "18   1970-01-01 00:00:00.000001978\n",
       "19   1970-01-01 00:00:00.000001979\n",
       "20   1970-01-01 00:00:00.000001980\n",
       "21   1970-01-01 00:00:00.000001981\n",
       "22   1970-01-01 00:00:00.000001982\n",
       "23   1970-01-01 00:00:00.000001983\n",
       "24   1970-01-01 00:00:00.000001984\n",
       "25   1970-01-01 00:00:00.000001985\n",
       "26   1970-01-01 00:00:00.000001986\n",
       "27   1970-01-01 00:00:00.000001987\n",
       "28   1970-01-01 00:00:00.000001988\n",
       "29   1970-01-01 00:00:00.000001989\n",
       "30   1970-01-01 00:00:00.000001990\n",
       "31   1970-01-01 00:00:00.000001991\n",
       "32   1970-01-01 00:00:00.000001992\n",
       "33   1970-01-01 00:00:00.000001993\n",
       "34   1970-01-01 00:00:00.000001994\n",
       "35   1970-01-01 00:00:00.000001995\n",
       "36   1970-01-01 00:00:00.000001996\n",
       "37   1970-01-01 00:00:00.000001997\n",
       "38   1970-01-01 00:00:00.000001998\n",
       "39   1970-01-01 00:00:00.000001999\n",
       "40   1970-01-01 00:00:00.000002000\n",
       "41   1970-01-01 00:00:00.000002001\n",
       "42   1970-01-01 00:00:00.000002002\n",
       "43   1970-01-01 00:00:00.000002003\n",
       "44   1970-01-01 00:00:00.000002004\n",
       "45   1970-01-01 00:00:00.000002005\n",
       "46   1970-01-01 00:00:00.000002006\n",
       "47   1970-01-01 00:00:00.000002007\n",
       "48   1970-01-01 00:00:00.000002008\n",
       "49   1970-01-01 00:00:00.000002009\n",
       "50   1970-01-01 00:00:00.000002010\n",
       "51   1970-01-01 00:00:00.000002011\n",
       "52   1970-01-01 00:00:00.000002012\n",
       "53   1970-01-01 00:00:00.000002013\n",
       "54   1970-01-01 00:00:00.000002014\n",
       "Name: Year, dtype: datetime64[ns]"
      ]
     },
     "execution_count": 20,
     "metadata": {},
     "output_type": "execute_result"
    }
   ],
   "source": [
    "df_crime['Year'] = pd.to_datetime(df_crime['Year'])\n",
    "\n",
    "df_crime['Year']"
   ]
  },
  {
   "cell_type": "markdown",
   "metadata": {},
   "source": [
    "### Step 6. Set the Year column as the index of the dataframe"
   ]
  },
  {
   "cell_type": "markdown",
   "metadata": {},
   "source": [
    "- No se puede usar una columna como indice"
   ]
  },
  {
   "cell_type": "code",
   "execution_count": null,
   "metadata": {
    "collapsed": false
   },
   "outputs": [],
   "source": [
    "df_crime.set_index(df_crime['Year'])"
   ]
  },
  {
   "cell_type": "markdown",
   "metadata": {},
   "source": [
    "### Step 7. Delete the Total column"
   ]
  },
  {
   "cell_type": "code",
   "execution_count": 21,
   "metadata": {
    "collapsed": false
   },
   "outputs": [],
   "source": [
    "crime = crime.drop(F.col('Total'))"
   ]
  },
  {
   "cell_type": "code",
   "execution_count": 24,
   "metadata": {},
   "outputs": [
    {
     "data": {
      "text/plain": [
       "['Year',\n",
       " 'Population',\n",
       " 'Violent',\n",
       " 'Property',\n",
       " 'Murder',\n",
       " 'Forcible_Rape',\n",
       " 'Robbery',\n",
       " 'Aggravated_assault',\n",
       " 'Burglary',\n",
       " 'Larceny_Theft',\n",
       " 'Vehicle_Theft']"
      ]
     },
     "execution_count": 24,
     "metadata": {},
     "output_type": "execute_result"
    }
   ],
   "source": [
    "crime.columns"
   ]
  },
  {
   "cell_type": "code",
   "execution_count": 25,
   "metadata": {},
   "outputs": [
    {
     "data": {
      "text/html": [
       "<div>\n",
       "<style scoped>\n",
       "    .dataframe tbody tr th:only-of-type {\n",
       "        vertical-align: middle;\n",
       "    }\n",
       "\n",
       "    .dataframe tbody tr th {\n",
       "        vertical-align: top;\n",
       "    }\n",
       "\n",
       "    .dataframe thead th {\n",
       "        text-align: right;\n",
       "    }\n",
       "</style>\n",
       "<table border=\"1\" class=\"dataframe\">\n",
       "  <thead>\n",
       "    <tr style=\"text-align: right;\">\n",
       "      <th></th>\n",
       "      <th>Population</th>\n",
       "      <th>Total</th>\n",
       "      <th>Violent</th>\n",
       "      <th>Property</th>\n",
       "      <th>Murder</th>\n",
       "      <th>Forcible_Rape</th>\n",
       "      <th>Robbery</th>\n",
       "      <th>Aggravated_assault</th>\n",
       "      <th>Burglary</th>\n",
       "      <th>Larceny_Theft</th>\n",
       "      <th>Vehicle_Theft</th>\n",
       "    </tr>\n",
       "  </thead>\n",
       "  <tbody>\n",
       "    <tr>\n",
       "      <th>0</th>\n",
       "      <td>179323175</td>\n",
       "      <td>3384200</td>\n",
       "      <td>288460</td>\n",
       "      <td>3095700</td>\n",
       "      <td>9110</td>\n",
       "      <td>17190</td>\n",
       "      <td>107840</td>\n",
       "      <td>154320</td>\n",
       "      <td>912100</td>\n",
       "      <td>1855400</td>\n",
       "      <td>328200</td>\n",
       "    </tr>\n",
       "    <tr>\n",
       "      <th>1</th>\n",
       "      <td>182992000</td>\n",
       "      <td>3488000</td>\n",
       "      <td>289390</td>\n",
       "      <td>3198600</td>\n",
       "      <td>8740</td>\n",
       "      <td>17220</td>\n",
       "      <td>106670</td>\n",
       "      <td>156760</td>\n",
       "      <td>949600</td>\n",
       "      <td>1913000</td>\n",
       "      <td>336000</td>\n",
       "    </tr>\n",
       "    <tr>\n",
       "      <th>2</th>\n",
       "      <td>185771000</td>\n",
       "      <td>3752200</td>\n",
       "      <td>301510</td>\n",
       "      <td>3450700</td>\n",
       "      <td>8530</td>\n",
       "      <td>17550</td>\n",
       "      <td>110860</td>\n",
       "      <td>164570</td>\n",
       "      <td>994300</td>\n",
       "      <td>2089600</td>\n",
       "      <td>366800</td>\n",
       "    </tr>\n",
       "    <tr>\n",
       "      <th>3</th>\n",
       "      <td>188483000</td>\n",
       "      <td>4109500</td>\n",
       "      <td>316970</td>\n",
       "      <td>3792500</td>\n",
       "      <td>8640</td>\n",
       "      <td>17650</td>\n",
       "      <td>116470</td>\n",
       "      <td>174210</td>\n",
       "      <td>1086400</td>\n",
       "      <td>2297800</td>\n",
       "      <td>408300</td>\n",
       "    </tr>\n",
       "    <tr>\n",
       "      <th>4</th>\n",
       "      <td>191141000</td>\n",
       "      <td>4564600</td>\n",
       "      <td>364220</td>\n",
       "      <td>4200400</td>\n",
       "      <td>9360</td>\n",
       "      <td>21420</td>\n",
       "      <td>130390</td>\n",
       "      <td>203050</td>\n",
       "      <td>1213200</td>\n",
       "      <td>2514400</td>\n",
       "      <td>472800</td>\n",
       "    </tr>\n",
       "  </tbody>\n",
       "</table>\n",
       "</div>"
      ],
      "text/plain": [
       "   Population    Total  Violent  Property  Murder  Forcible_Rape  Robbery  \\\n",
       "0   179323175  3384200   288460   3095700    9110          17190   107840   \n",
       "1   182992000  3488000   289390   3198600    8740          17220   106670   \n",
       "2   185771000  3752200   301510   3450700    8530          17550   110860   \n",
       "3   188483000  4109500   316970   3792500    8640          17650   116470   \n",
       "4   191141000  4564600   364220   4200400    9360          21420   130390   \n",
       "\n",
       "   Aggravated_assault  Burglary  Larceny_Theft  Vehicle_Theft  \n",
       "0              154320    912100        1855400         328200  \n",
       "1              156760    949600        1913000         336000  \n",
       "2              164570    994300        2089600         366800  \n",
       "3              174210   1086400        2297800         408300  \n",
       "4              203050   1213200        2514400         472800  "
      ]
     },
     "execution_count": 25,
     "metadata": {},
     "output_type": "execute_result"
    }
   ],
   "source": [
    "df_crime.drop(columns=['Year'], inplace=True)\n",
    "\n",
    "df_crime.head()"
   ]
  },
  {
   "cell_type": "markdown",
   "metadata": {},
   "source": [
    "### Step 8. Group the year by decades and sum the values\n",
    "\n",
    "#### Pay attention to the Population column number, summing this column is a mistake"
   ]
  },
  {
   "cell_type": "code",
   "execution_count": null,
   "metadata": {
    "collapsed": false,
    "scrolled": true
   },
   "outputs": [],
   "source": []
  },
  {
   "cell_type": "markdown",
   "metadata": {},
   "source": [
    "### Step 9. What is the most dangerous decade to live in the US?"
   ]
  },
  {
   "cell_type": "code",
   "execution_count": null,
   "metadata": {
    "collapsed": false
   },
   "outputs": [],
   "source": []
  }
 ],
 "metadata": {
  "anaconda-cloud": {},
  "kernelspec": {
   "display_name": "myenv_",
   "language": "python",
   "name": "python3"
  },
  "language_info": {
   "codemirror_mode": {
    "name": "ipython",
    "version": 3
   },
   "file_extension": ".py",
   "mimetype": "text/x-python",
   "name": "python",
   "nbconvert_exporter": "python",
   "pygments_lexer": "ipython3",
   "version": "3.10.18"
  }
 },
 "nbformat": 4,
 "nbformat_minor": 0
}
