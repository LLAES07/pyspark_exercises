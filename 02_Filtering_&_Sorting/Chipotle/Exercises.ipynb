{
 "cells": [
  {
   "cell_type": "markdown",
   "metadata": {},
   "source": [
    "# Ex1 - Filtering and Sorting Data"
   ]
  },
  {
   "cell_type": "markdown",
   "metadata": {},
   "source": [
    "This time we are going to pull data directly from the internet.\n",
    "Special thanks to: https://github.com/justmarkham for sharing the dataset and materials.\n",
    "\n",
    "### Step 1. Import the necessary libraries"
   ]
  },
  {
   "cell_type": "code",
   "execution_count": 1,
   "metadata": {
    "collapsed": false
   },
   "outputs": [
    {
     "name": "stderr",
     "output_type": "stream",
     "text": [
      "25/05/30 18:10:36 WARN Utils: Your hostname, kevin-llanos-Type1ProductConfigId resolves to a loopback address: 127.0.1.1; using 192.168.1.92 instead (on interface wlo1)\n",
      "25/05/30 18:10:36 WARN Utils: Set SPARK_LOCAL_IP if you need to bind to another address\n",
      "Setting default log level to \"WARN\".\n",
      "To adjust logging level use sc.setLogLevel(newLevel). For SparkR, use setLogLevel(newLevel).\n",
      "25/05/30 18:10:36 WARN NativeCodeLoader: Unable to load native-hadoop library for your platform... using builtin-java classes where applicable\n"
     ]
    }
   ],
   "source": [
    "import pandas as pd\n",
    "from pyspark.sql import SparkSession\n",
    "\n",
    "\n",
    "spark = SparkSession.builder\\\n",
    "                    .appName('Chipo')\\\n",
    "                    .getOrCreate()"
   ]
  },
  {
   "cell_type": "markdown",
   "metadata": {},
   "source": [
    "### Step 2. Import the dataset from this [address](https://raw.githubusercontent.com/justmarkham/DAT8/master/data/chipotle.tsv). "
   ]
  },
  {
   "cell_type": "markdown",
   "metadata": {},
   "source": [
    "### Step 3. Assign it to a variable called chipo."
   ]
  },
  {
   "cell_type": "code",
   "execution_count": 2,
   "metadata": {
    "collapsed": false
   },
   "outputs": [],
   "source": [
    "import requests\n",
    "\n",
    "url = 'https://raw.githubusercontent.com/justmarkham/DAT8/master/data/chipotle.tsv'\n",
    "\n",
    "url_request = requests.get(url)\n",
    "\n",
    "with open('data.csv', 'w', encoding='UTF-8') as f:\n",
    "   f.write(url_request.text)\n",
    "\n",
    "\n",
    "df = pd.read_csv('data.csv', sep='\\t')\n",
    "\n",
    "chipo = spark.read.csv('data.csv',  sep='\\t', header=True)"
   ]
  },
  {
   "cell_type": "markdown",
   "metadata": {},
   "source": [
    "### Step 4. How many products cost more than $10.00?"
   ]
  },
  {
   "cell_type": "code",
   "execution_count": 3,
   "metadata": {
    "collapsed": false
   },
   "outputs": [
    {
     "name": "stdout",
     "output_type": "stream",
     "text": [
      "root\n",
      " |-- order_id: string (nullable = true)\n",
      " |-- quantity: string (nullable = true)\n",
      " |-- item_name: string (nullable = true)\n",
      " |-- choice_description: string (nullable = true)\n",
      " |-- item_price: string (nullable = true)\n",
      "\n"
     ]
    }
   ],
   "source": [
    "chipo.printSchema()"
   ]
  },
  {
   "cell_type": "code",
   "execution_count": 4,
   "metadata": {},
   "outputs": [],
   "source": [
    "from pyspark.sql.functions import col, regexp_replace\n",
    "\n",
    "\n",
    "clean_chipo = chipo.withColumn('item_price', regexp_replace(col(\"item_price\"), \"\\\\$\", \"\").cast('float'))"
   ]
  },
  {
   "cell_type": "code",
   "execution_count": 5,
   "metadata": {},
   "outputs": [],
   "source": [
    "clean_chipo = clean_chipo.dropDuplicates(subset=['item_name','quantity','choice_description'])"
   ]
  },
  {
   "cell_type": "code",
   "execution_count": 6,
   "metadata": {},
   "outputs": [],
   "source": [
    "chipo_morethan_10 = clean_chipo.filter(col('item_price') > 10)"
   ]
  },
  {
   "cell_type": "code",
   "execution_count": 7,
   "metadata": {},
   "outputs": [
    {
     "data": {
      "text/plain": [
       "31"
      ]
     },
     "execution_count": 7,
     "metadata": {},
     "output_type": "execute_result"
    }
   ],
   "source": [
    "\n",
    "chipo_morethan_10.select('item_name').distinct().count()"
   ]
  },
  {
   "cell_type": "markdown",
   "metadata": {},
   "source": [
    "### Step 5. What is the price of each item? \n",
    "###### print a data frame with only two columns item_name and item_price"
   ]
  },
  {
   "cell_type": "code",
   "execution_count": 8,
   "metadata": {
    "collapsed": false
   },
   "outputs": [
    {
     "name": "stdout",
     "output_type": "stream",
     "text": [
      "+--------------------+----------+\n",
      "|           item_name|item_price|\n",
      "+--------------------+----------+\n",
      "|     Chicken Burrito|      17.5|\n",
      "|        Chicken Bowl|     10.98|\n",
      "|Chicken Crispy Tacos|     16.98|\n",
      "|      Veggie Burrito|     10.98|\n",
      "|         Veggie Bowl|     11.25|\n",
      "|    Barbacoa Burrito|     11.48|\n",
      "|  Chicken Soft Tacos|     21.96|\n",
      "|Carnitas Crispy T...|     17.98|\n",
      "|   Veggie Soft Tacos|     11.25|\n",
      "|   Veggie Soft Tacos|     16.98|\n",
      "|       Bottled Water|      10.5|\n",
      "|          Steak Bowl|     11.08|\n",
      "|Barbacoa Crispy T...|     11.48|\n",
      "| Barbacoa Salad Bowl|     11.89|\n",
      "|       Steak Burrito|     22.96|\n",
      "|    Carnitas Burrito|     11.08|\n",
      "|     Chicken Burrito|      35.0|\n",
      "| Carnitas Soft Tacos|     11.75|\n",
      "|                Bowl|      22.2|\n",
      "|    Steak Salad Bowl|     11.89|\n",
      "+--------------------+----------+\n",
      "only showing top 20 rows\n",
      "\n"
     ]
    }
   ],
   "source": [
    "chipo_morethan_10.select('item_name','item_price').distinct().show()"
   ]
  },
  {
   "cell_type": "markdown",
   "metadata": {},
   "source": [
    "### Step 6. Sort by the name of the item"
   ]
  },
  {
   "cell_type": "code",
   "execution_count": 9,
   "metadata": {},
   "outputs": [
    {
     "name": "stdout",
     "output_type": "stream",
     "text": [
      "+--------------------+----------+\n",
      "|           item_name|item_price|\n",
      "+--------------------+----------+\n",
      "|   6 Pack Soft Drink|     12.98|\n",
      "|       Barbacoa Bowl|     11.75|\n",
      "|    Barbacoa Burrito|     11.75|\n",
      "|Barbacoa Crispy T...|     11.75|\n",
      "| Barbacoa Salad Bowl|     11.89|\n",
      "| Barbacoa Soft Tacos|     11.75|\n",
      "|       Bottled Water|      15.0|\n",
      "|                Bowl|      22.2|\n",
      "|       Carnitas Bowl|     11.75|\n",
      "|    Carnitas Burrito|     11.48|\n",
      "|Carnitas Crispy T...|     11.75|\n",
      "| Carnitas Salad Bowl|     11.89|\n",
      "| Carnitas Soft Tacos|     11.75|\n",
      "|        Chicken Bowl|     11.25|\n",
      "|     Chicken Burrito|     10.98|\n",
      "|Chicken Crispy Tacos|     11.25|\n",
      "|       Chicken Salad|     10.98|\n",
      "|  Chicken Salad Bowl|      17.5|\n",
      "|  Chicken Soft Tacos|     11.25|\n",
      "|Chips and Fresh T...|     44.25|\n",
      "+--------------------+----------+\n",
      "only showing top 20 rows\n",
      "\n"
     ]
    }
   ],
   "source": [
    "chipo_morethan_10.dropDuplicates(['item_name']).select('item_name', 'item_price').orderBy(\"item_name\", ascending=True).show()\n"
   ]
  },
  {
   "cell_type": "code",
   "execution_count": 10,
   "metadata": {
    "collapsed": false
   },
   "outputs": [
    {
     "name": "stdout",
     "output_type": "stream",
     "text": [
      "+--------------------+----------+\n",
      "|           item_name|item_price|\n",
      "+--------------------+----------+\n",
      "|   6 Pack Soft Drink|     12.98|\n",
      "|       Barbacoa Bowl|     11.48|\n",
      "|    Barbacoa Burrito|     11.08|\n",
      "|Barbacoa Crispy T...|     11.48|\n",
      "| Barbacoa Salad Bowl|     11.89|\n",
      "| Barbacoa Soft Tacos|     11.48|\n",
      "|       Bottled Water|      10.5|\n",
      "|                Bowl|      22.2|\n",
      "|       Carnitas Bowl|     11.08|\n",
      "|    Carnitas Burrito|     11.08|\n",
      "|Carnitas Crispy T...|     11.75|\n",
      "| Carnitas Salad Bowl|     11.89|\n",
      "| Carnitas Soft Tacos|     11.75|\n",
      "|        Chicken Bowl|     10.58|\n",
      "|     Chicken Burrito|     10.58|\n",
      "|Chicken Crispy Tacos|     10.98|\n",
      "|       Chicken Salad|     10.98|\n",
      "|  Chicken Salad Bowl|     11.25|\n",
      "|  Chicken Soft Tacos|     10.98|\n",
      "|Chips and Fresh T...|      11.8|\n",
      "+--------------------+----------+\n",
      "only showing top 20 rows\n",
      "\n"
     ]
    }
   ],
   "source": [
    "from pyspark.sql.functions import min\n",
    "ordenados = chipo_morethan_10.groupBy(\"item_name\").agg(min('item_price').alias('item_price')).orderBy('item_name', ascending=True)\n",
    "ordenados.show()"
   ]
  },
  {
   "cell_type": "markdown",
   "metadata": {},
   "source": [
    "### Step 7. What was the quantity of the most expensive item ordered?"
   ]
  },
  {
   "cell_type": "code",
   "execution_count": 28,
   "metadata": {},
   "outputs": [],
   "source": [
    "precio_maximo = clean_chipo.agg(\n",
    "    max(col('item_price')).alias('precio_maximo')\n",
    ").collect()[0][0]"
   ]
  },
  {
   "cell_type": "code",
   "execution_count": 31,
   "metadata": {
    "collapsed": false
   },
   "outputs": [
    {
     "name": "stdout",
     "output_type": "stream",
     "text": [
      "+--------+\n",
      "|quantity|\n",
      "+--------+\n",
      "|      15|\n",
      "+--------+\n",
      "\n"
     ]
    }
   ],
   "source": [
    "from pyspark.sql.functions import max\n",
    "clean_chipo.filter(col('item_price') == precio_maximo).select('quantity').show()"
   ]
  },
  {
   "cell_type": "markdown",
   "metadata": {},
   "source": [
    "### Step 8. How many times was a Veggie Salad Bowl ordered?"
   ]
  },
  {
   "cell_type": "code",
   "execution_count": 34,
   "metadata": {
    "collapsed": false
   },
   "outputs": [
    {
     "data": {
      "text/plain": [
       "16"
      ]
     },
     "execution_count": 34,
     "metadata": {},
     "output_type": "execute_result"
    }
   ],
   "source": [
    "clean_chipo.filter(col('item_name') == 'Veggie Salad Bowl').count()"
   ]
  },
  {
   "cell_type": "markdown",
   "metadata": {},
   "source": [
    "### Step 9. How many times did someone order more than one Canned Soda?"
   ]
  },
  {
   "cell_type": "code",
   "execution_count": null,
   "metadata": {
    "collapsed": false
   },
   "outputs": [],
   "source": []
  }
 ],
 "metadata": {
  "kernelspec": {
   "display_name": "myenv_",
   "language": "python",
   "name": "python3"
  },
  "language_info": {
   "codemirror_mode": {
    "name": "ipython",
    "version": 3
   },
   "file_extension": ".py",
   "mimetype": "text/x-python",
   "name": "python",
   "nbconvert_exporter": "python",
   "pygments_lexer": "ipython3",
   "version": "3.10.17"
  }
 },
 "nbformat": 4,
 "nbformat_minor": 0
}
