{
 "cells": [
  {
   "cell_type": "markdown",
   "metadata": {},
   "source": [
    "# MPG Cars"
   ]
  },
  {
   "cell_type": "markdown",
   "metadata": {},
   "source": [
    "### Introduction:\n",
    "\n",
    "The following exercise utilizes data from [UC Irvine Machine Learning Repository](https://archive.ics.uci.edu/ml/datasets/Auto+MPG)\n",
    "\n",
    "### Step 1. Import the necessary libraries"
   ]
  },
  {
   "cell_type": "code",
   "execution_count": 1,
   "metadata": {
    "collapsed": false
   },
   "outputs": [
    {
     "name": "stderr",
     "output_type": "stream",
     "text": [
      "25/06/13 14:34:51 WARN Utils: Your hostname, kevin-llanos-Type1ProductConfigId resolves to a loopback address: 127.0.1.1; using 192.168.1.88 instead (on interface wlo1)\n",
      "25/06/13 14:34:51 WARN Utils: Set SPARK_LOCAL_IP if you need to bind to another address\n",
      "Setting default log level to \"WARN\".\n",
      "To adjust logging level use sc.setLogLevel(newLevel). For SparkR, use setLogLevel(newLevel).\n",
      "25/06/13 14:34:52 WARN NativeCodeLoader: Unable to load native-hadoop library for your platform... using builtin-java classes where applicable\n",
      "25/06/13 14:34:53 WARN Utils: Service 'SparkUI' could not bind on port 4040. Attempting port 4041.\n"
     ]
    }
   ],
   "source": [
    "import pandas as pd\n",
    "from pyspark.sql import SparkSession\n",
    "from pyspark.sql import functions as F\n",
    "from pyspark.sql import types\n",
    "import requests\n",
    "\n",
    "spark = SparkSession.builder\\\n",
    "                    .appName('mpg_cars')\\\n",
    "                    .getOrCreate()"
   ]
  },
  {
   "cell_type": "markdown",
   "metadata": {},
   "source": [
    "### Step 2. Import the first dataset [cars1](https://raw.githubusercontent.com/guipsamora/pandas_exercises/master/05_Merge/Auto_MPG/cars1.csv) and [cars2](https://raw.githubusercontent.com/guipsamora/pandas_exercises/master/05_Merge/Auto_MPG/cars2.csv).  "
   ]
  },
  {
   "cell_type": "markdown",
   "metadata": {},
   "source": [
    "   ### Step 3. Assign each to a variable called cars1 and cars2"
   ]
  },
  {
   "cell_type": "code",
   "execution_count": 2,
   "metadata": {
    "collapsed": false
   },
   "outputs": [],
   "source": [
    "import requests\n",
    "import pandas as pd\n",
    "\n",
    "def csv_generator(url, name):\n",
    "    response = requests.get(url)\n",
    "    \n",
    "    filename = f'data_{name}.csv' \n",
    "    with open(filename, 'w', encoding='utf-8') as f:\n",
    "        f.write(response.text)\n",
    "    \n",
    "    return filename\n",
    "\n",
    "\n",
    "data = csv_generator('https://raw.githubusercontent.com/guipsamora/pandas_exercises/master/05_Merge/Auto_MPG/cars1.csv', 'cars1')\n",
    "df_car1 = pd.read_csv(data)\n",
    "cars1 = spark.read.csv(data, header=True,  sep=',')\n",
    "\n",
    "data2 = csv_generator('https://raw.githubusercontent.com/guipsamora/pandas_exercises/master/05_Merge/Auto_MPG/cars2.csv', 'cars2')\n",
    "df_car2 = pd.read_csv(data2)\n",
    "cars2 = spark.read.csv(data2, header=True,  sep=',')"
   ]
  },
  {
   "cell_type": "code",
   "execution_count": 3,
   "metadata": {},
   "outputs": [
    {
     "name": "stdout",
     "output_type": "stream",
     "text": [
      "+----+---------+------------+----------+------+------------+-----+------+--------------------+----+----+----+----+----+\n",
      "| mpg|cylinders|displacement|horsepower|weight|acceleration|model|origin|                 car| _c9|_c10|_c11|_c12|_c13|\n",
      "+----+---------+------------+----------+------+------------+-----+------+--------------------+----+----+----+----+----+\n",
      "|18.0|        8|         307|       130|  3504|        12.0|   70|     1|chevrolet chevell...|NULL|NULL|NULL|NULL|NULL|\n",
      "|15.0|        8|         350|       165|  3693|        11.5|   70|     1|   buick skylark 320|NULL|NULL|NULL|NULL|NULL|\n",
      "|18.0|        8|         318|       150|  3436|        11.0|   70|     1|  plymouth satellite|NULL|NULL|NULL|NULL|NULL|\n",
      "|16.0|        8|         304|       150|  3433|        12.0|   70|     1|       amc rebel sst|NULL|NULL|NULL|NULL|NULL|\n",
      "|17.0|        8|         302|       140|  3449|        10.5|   70|     1|         ford torino|NULL|NULL|NULL|NULL|NULL|\n",
      "|15.0|        8|         429|       198|  4341|        10.0|   70|     1|    ford galaxie 500|NULL|NULL|NULL|NULL|NULL|\n",
      "|14.0|        8|         454|       220|  4354|         9.0|   70|     1|    chevrolet impala|NULL|NULL|NULL|NULL|NULL|\n",
      "|14.0|        8|         440|       215|  4312|         8.5|   70|     1|   plymouth fury iii|NULL|NULL|NULL|NULL|NULL|\n",
      "|14.0|        8|         455|       225|  4425|        10.0|   70|     1|    pontiac catalina|NULL|NULL|NULL|NULL|NULL|\n",
      "|15.0|        8|         390|       190|  3850|         8.5|   70|     1|  amc ambassador dpl|NULL|NULL|NULL|NULL|NULL|\n",
      "|15.0|        8|         383|       170|  3563|        10.0|   70|     1| dodge challenger se|NULL|NULL|NULL|NULL|NULL|\n",
      "|14.0|        8|         340|       160|  3609|         8.0|   70|     1|  plymouth 'cuda 340|NULL|NULL|NULL|NULL|NULL|\n",
      "|15.0|        8|         400|       150|  3761|         9.5|   70|     1|chevrolet monte c...|NULL|NULL|NULL|NULL|NULL|\n",
      "|14.0|        8|         455|       225|  3086|        10.0|   70|     1|buick estate wago...|NULL|NULL|NULL|NULL|NULL|\n",
      "|24.0|        4|         113|        95|  2372|        15.0|   70|     3|toyota corona mar...|NULL|NULL|NULL|NULL|NULL|\n",
      "|22.0|        6|         198|        95|  2833|        15.5|   70|     1|     plymouth duster|NULL|NULL|NULL|NULL|NULL|\n",
      "|18.0|        6|         199|        97|  2774|        15.5|   70|     1|          amc hornet|NULL|NULL|NULL|NULL|NULL|\n",
      "|21.0|        6|         200|        85|  2587|        16.0|   70|     1|       ford maverick|NULL|NULL|NULL|NULL|NULL|\n",
      "|27.0|        4|          97|        88|  2130|        14.5|   70|     3|        datsun pl510|NULL|NULL|NULL|NULL|NULL|\n",
      "|26.0|        4|          97|        46|  1835|        20.5|   70|     2|volkswagen 1131 d...|NULL|NULL|NULL|NULL|NULL|\n",
      "+----+---------+------------+----------+------+------------+-----+------+--------------------+----+----+----+----+----+\n",
      "only showing top 20 rows\n",
      "\n"
     ]
    },
    {
     "name": "stderr",
     "output_type": "stream",
     "text": [
      "25/06/13 14:34:57 WARN CSVHeaderChecker: CSV header does not conform to the schema.\n",
      " Header: mpg, cylinders, displacement, horsepower, weight, acceleration, model, origin, car, , , , , \n",
      " Schema: mpg, cylinders, displacement, horsepower, weight, acceleration, model, origin, car, _c9, _c10, _c11, _c12, _c13\n",
      "Expected: _c9 but found: \n",
      "CSV file: file:///home/kevin-llanos/Proyectos/pyspark_exercises/05_Merge/Auto_MPG/data_cars1.csv\n"
     ]
    }
   ],
   "source": [
    "cars1.show()"
   ]
  },
  {
   "cell_type": "code",
   "execution_count": 4,
   "metadata": {},
   "outputs": [
    {
     "data": {
      "text/html": [
       "<div>\n",
       "<style scoped>\n",
       "    .dataframe tbody tr th:only-of-type {\n",
       "        vertical-align: middle;\n",
       "    }\n",
       "\n",
       "    .dataframe tbody tr th {\n",
       "        vertical-align: top;\n",
       "    }\n",
       "\n",
       "    .dataframe thead th {\n",
       "        text-align: right;\n",
       "    }\n",
       "</style>\n",
       "<table border=\"1\" class=\"dataframe\">\n",
       "  <thead>\n",
       "    <tr style=\"text-align: right;\">\n",
       "      <th></th>\n",
       "      <th>mpg</th>\n",
       "      <th>cylinders</th>\n",
       "      <th>displacement</th>\n",
       "      <th>horsepower</th>\n",
       "      <th>weight</th>\n",
       "      <th>acceleration</th>\n",
       "      <th>model</th>\n",
       "      <th>origin</th>\n",
       "      <th>car</th>\n",
       "      <th>Unnamed: 9</th>\n",
       "      <th>Unnamed: 10</th>\n",
       "      <th>Unnamed: 11</th>\n",
       "      <th>Unnamed: 12</th>\n",
       "      <th>Unnamed: 13</th>\n",
       "    </tr>\n",
       "  </thead>\n",
       "  <tbody>\n",
       "    <tr>\n",
       "      <th>0</th>\n",
       "      <td>18.0</td>\n",
       "      <td>8</td>\n",
       "      <td>307</td>\n",
       "      <td>130</td>\n",
       "      <td>3504</td>\n",
       "      <td>12.0</td>\n",
       "      <td>70</td>\n",
       "      <td>1</td>\n",
       "      <td>chevrolet chevelle malibu</td>\n",
       "      <td>NaN</td>\n",
       "      <td>NaN</td>\n",
       "      <td>NaN</td>\n",
       "      <td>NaN</td>\n",
       "      <td>NaN</td>\n",
       "    </tr>\n",
       "    <tr>\n",
       "      <th>1</th>\n",
       "      <td>15.0</td>\n",
       "      <td>8</td>\n",
       "      <td>350</td>\n",
       "      <td>165</td>\n",
       "      <td>3693</td>\n",
       "      <td>11.5</td>\n",
       "      <td>70</td>\n",
       "      <td>1</td>\n",
       "      <td>buick skylark 320</td>\n",
       "      <td>NaN</td>\n",
       "      <td>NaN</td>\n",
       "      <td>NaN</td>\n",
       "      <td>NaN</td>\n",
       "      <td>NaN</td>\n",
       "    </tr>\n",
       "    <tr>\n",
       "      <th>2</th>\n",
       "      <td>18.0</td>\n",
       "      <td>8</td>\n",
       "      <td>318</td>\n",
       "      <td>150</td>\n",
       "      <td>3436</td>\n",
       "      <td>11.0</td>\n",
       "      <td>70</td>\n",
       "      <td>1</td>\n",
       "      <td>plymouth satellite</td>\n",
       "      <td>NaN</td>\n",
       "      <td>NaN</td>\n",
       "      <td>NaN</td>\n",
       "      <td>NaN</td>\n",
       "      <td>NaN</td>\n",
       "    </tr>\n",
       "    <tr>\n",
       "      <th>3</th>\n",
       "      <td>16.0</td>\n",
       "      <td>8</td>\n",
       "      <td>304</td>\n",
       "      <td>150</td>\n",
       "      <td>3433</td>\n",
       "      <td>12.0</td>\n",
       "      <td>70</td>\n",
       "      <td>1</td>\n",
       "      <td>amc rebel sst</td>\n",
       "      <td>NaN</td>\n",
       "      <td>NaN</td>\n",
       "      <td>NaN</td>\n",
       "      <td>NaN</td>\n",
       "      <td>NaN</td>\n",
       "    </tr>\n",
       "    <tr>\n",
       "      <th>4</th>\n",
       "      <td>17.0</td>\n",
       "      <td>8</td>\n",
       "      <td>302</td>\n",
       "      <td>140</td>\n",
       "      <td>3449</td>\n",
       "      <td>10.5</td>\n",
       "      <td>70</td>\n",
       "      <td>1</td>\n",
       "      <td>ford torino</td>\n",
       "      <td>NaN</td>\n",
       "      <td>NaN</td>\n",
       "      <td>NaN</td>\n",
       "      <td>NaN</td>\n",
       "      <td>NaN</td>\n",
       "    </tr>\n",
       "  </tbody>\n",
       "</table>\n",
       "</div>"
      ],
      "text/plain": [
       "    mpg  cylinders  displacement horsepower  weight  acceleration  model  \\\n",
       "0  18.0          8           307        130    3504          12.0     70   \n",
       "1  15.0          8           350        165    3693          11.5     70   \n",
       "2  18.0          8           318        150    3436          11.0     70   \n",
       "3  16.0          8           304        150    3433          12.0     70   \n",
       "4  17.0          8           302        140    3449          10.5     70   \n",
       "\n",
       "   origin                        car  Unnamed: 9  Unnamed: 10  Unnamed: 11  \\\n",
       "0       1  chevrolet chevelle malibu         NaN          NaN          NaN   \n",
       "1       1          buick skylark 320         NaN          NaN          NaN   \n",
       "2       1         plymouth satellite         NaN          NaN          NaN   \n",
       "3       1              amc rebel sst         NaN          NaN          NaN   \n",
       "4       1                ford torino         NaN          NaN          NaN   \n",
       "\n",
       "   Unnamed: 12  Unnamed: 13  \n",
       "0          NaN          NaN  \n",
       "1          NaN          NaN  \n",
       "2          NaN          NaN  \n",
       "3          NaN          NaN  \n",
       "4          NaN          NaN  "
      ]
     },
     "execution_count": 4,
     "metadata": {},
     "output_type": "execute_result"
    }
   ],
   "source": [
    "df_car1.head()\n",
    "\n"
   ]
  },
  {
   "cell_type": "code",
   "execution_count": 5,
   "metadata": {},
   "outputs": [
    {
     "name": "stdout",
     "output_type": "stream",
     "text": [
      "+----+---------+------------+----------+------+------------+-----+------+--------------------+\n",
      "| mpg|cylinders|displacement|horsepower|weight|acceleration|model|origin|                 car|\n",
      "+----+---------+------------+----------+------+------------+-----+------+--------------------+\n",
      "|33.0|        4|          91|        53|  1795|        17.4|   76|     3|         honda civic|\n",
      "|20.0|        6|         225|       100|  3651|        17.7|   76|     1|      dodge aspen se|\n",
      "|18.0|        6|         250|        78|  3574|        21.0|   76|     1|   ford granada ghia|\n",
      "|18.5|        6|         250|       110|  3645|        16.2|   76|     1|  pontiac ventura sj|\n",
      "|17.5|        6|         258|        95|  3193|        17.8|   76|     1|       amc pacer d/l|\n",
      "|29.5|        4|          97|        71|  1825|        12.2|   76|     2|   volkswagen rabbit|\n",
      "|32.0|        4|          85|        70|  1990|        17.0|   76|     3|        datsun b-210|\n",
      "|28.0|        4|          97|        75|  2155|        16.4|   76|     3|      toyota corolla|\n",
      "|26.5|        4|         140|        72|  2565|        13.6|   76|     1|          ford pinto|\n",
      "|20.0|        4|         130|       102|  3150|        15.7|   76|     2|           volvo 245|\n",
      "|13.0|        8|         318|       150|  3940|        13.2|   76|     1|plymouth volare p...|\n",
      "|19.0|        4|         120|        88|  3270|        21.9|   76|     2|         peugeot 504|\n",
      "|19.0|        6|         156|       108|  2930|        15.5|   76|     3|      toyota mark ii|\n",
      "|16.5|        6|         168|       120|  3820|        16.7|   76|     2|  mercedes-benz 280s|\n",
      "|16.5|        8|         350|       180|  4380|        12.1|   76|     1|    cadillac seville|\n",
      "|13.0|        8|         350|       145|  4055|        12.0|   76|     1|           chevy c10|\n",
      "|13.0|        8|         302|       130|  3870|        15.0|   76|     1|           ford f108|\n",
      "|13.0|        8|         318|       150|  3755|        14.0|   76|     1|          dodge d100|\n",
      "|31.5|        4|          98|        68|  2045|        18.5|   77|     3|   honda accord cvcc|\n",
      "|30.0|        4|         111|        80|  2155|        14.8|   77|     1|buick opel isuzu ...|\n",
      "+----+---------+------------+----------+------+------------+-----+------+--------------------+\n",
      "only showing top 20 rows\n",
      "\n"
     ]
    }
   ],
   "source": [
    "cars2.show()"
   ]
  },
  {
   "cell_type": "code",
   "execution_count": 6,
   "metadata": {},
   "outputs": [
    {
     "data": {
      "text/html": [
       "<div>\n",
       "<style scoped>\n",
       "    .dataframe tbody tr th:only-of-type {\n",
       "        vertical-align: middle;\n",
       "    }\n",
       "\n",
       "    .dataframe tbody tr th {\n",
       "        vertical-align: top;\n",
       "    }\n",
       "\n",
       "    .dataframe thead th {\n",
       "        text-align: right;\n",
       "    }\n",
       "</style>\n",
       "<table border=\"1\" class=\"dataframe\">\n",
       "  <thead>\n",
       "    <tr style=\"text-align: right;\">\n",
       "      <th></th>\n",
       "      <th>mpg</th>\n",
       "      <th>cylinders</th>\n",
       "      <th>displacement</th>\n",
       "      <th>horsepower</th>\n",
       "      <th>weight</th>\n",
       "      <th>acceleration</th>\n",
       "      <th>model</th>\n",
       "      <th>origin</th>\n",
       "      <th>car</th>\n",
       "    </tr>\n",
       "  </thead>\n",
       "  <tbody>\n",
       "    <tr>\n",
       "      <th>0</th>\n",
       "      <td>33.0</td>\n",
       "      <td>4</td>\n",
       "      <td>91</td>\n",
       "      <td>53</td>\n",
       "      <td>1795</td>\n",
       "      <td>17.4</td>\n",
       "      <td>76</td>\n",
       "      <td>3</td>\n",
       "      <td>honda civic</td>\n",
       "    </tr>\n",
       "    <tr>\n",
       "      <th>1</th>\n",
       "      <td>20.0</td>\n",
       "      <td>6</td>\n",
       "      <td>225</td>\n",
       "      <td>100</td>\n",
       "      <td>3651</td>\n",
       "      <td>17.7</td>\n",
       "      <td>76</td>\n",
       "      <td>1</td>\n",
       "      <td>dodge aspen se</td>\n",
       "    </tr>\n",
       "    <tr>\n",
       "      <th>2</th>\n",
       "      <td>18.0</td>\n",
       "      <td>6</td>\n",
       "      <td>250</td>\n",
       "      <td>78</td>\n",
       "      <td>3574</td>\n",
       "      <td>21.0</td>\n",
       "      <td>76</td>\n",
       "      <td>1</td>\n",
       "      <td>ford granada ghia</td>\n",
       "    </tr>\n",
       "    <tr>\n",
       "      <th>3</th>\n",
       "      <td>18.5</td>\n",
       "      <td>6</td>\n",
       "      <td>250</td>\n",
       "      <td>110</td>\n",
       "      <td>3645</td>\n",
       "      <td>16.2</td>\n",
       "      <td>76</td>\n",
       "      <td>1</td>\n",
       "      <td>pontiac ventura sj</td>\n",
       "    </tr>\n",
       "    <tr>\n",
       "      <th>4</th>\n",
       "      <td>17.5</td>\n",
       "      <td>6</td>\n",
       "      <td>258</td>\n",
       "      <td>95</td>\n",
       "      <td>3193</td>\n",
       "      <td>17.8</td>\n",
       "      <td>76</td>\n",
       "      <td>1</td>\n",
       "      <td>amc pacer d/l</td>\n",
       "    </tr>\n",
       "  </tbody>\n",
       "</table>\n",
       "</div>"
      ],
      "text/plain": [
       "    mpg  cylinders  displacement horsepower  weight  acceleration  model  \\\n",
       "0  33.0          4            91         53    1795          17.4     76   \n",
       "1  20.0          6           225        100    3651          17.7     76   \n",
       "2  18.0          6           250         78    3574          21.0     76   \n",
       "3  18.5          6           250        110    3645          16.2     76   \n",
       "4  17.5          6           258         95    3193          17.8     76   \n",
       "\n",
       "   origin                 car  \n",
       "0       3         honda civic  \n",
       "1       1      dodge aspen se  \n",
       "2       1   ford granada ghia  \n",
       "3       1  pontiac ventura sj  \n",
       "4       1       amc pacer d/l  "
      ]
     },
     "execution_count": 6,
     "metadata": {},
     "output_type": "execute_result"
    }
   ],
   "source": [
    "df_car2.head()"
   ]
  },
  {
   "cell_type": "markdown",
   "metadata": {},
   "source": [
    "### Step 4. Oops, it seems our first dataset has some unnamed blank columns, fix cars1"
   ]
  },
  {
   "cell_type": "code",
   "execution_count": 12,
   "metadata": {
    "collapsed": false
   },
   "outputs": [
    {
     "name": "stderr",
     "output_type": "stream",
     "text": [
      "25/06/13 14:38:53 WARN CSVHeaderChecker: CSV header does not conform to the schema.\n",
      " Header: mpg, cylinders, displacement, horsepower, weight, acceleration, model, origin, car, , , , , \n",
      " Schema: mpg, cylinders, displacement, horsepower, weight, acceleration, model, origin, car, _c9, _c10, _c11, _c12, _c13\n",
      "Expected: _c9 but found: \n",
      "CSV file: file:///home/kevin-llanos/Proyectos/pyspark_exercises/05_Merge/Auto_MPG/data_cars1.csv\n"
     ]
    },
    {
     "name": "stdout",
     "output_type": "stream",
     "text": [
      "+---+---------+------------+----------+------+------------+-----+------+---+---+----+----+----+----+\n",
      "|mpg|cylinders|displacement|horsepower|weight|acceleration|model|origin|car|_c9|_c10|_c11|_c12|_c13|\n",
      "+---+---------+------------+----------+------+------------+-----+------+---+---+----+----+----+----+\n",
      "|  0|        0|           0|         0|     0|           0|    0|     0|  0|198| 198| 198| 198| 198|\n",
      "+---+---------+------------+----------+------+------------+-----+------+---+---+----+----+----+----+\n",
      "\n"
     ]
    }
   ],
   "source": [
    "cars1.select([F.sum(F.col(c).isNull().cast(\"int\")).alias(c) for c in cars1.columns]).show()"
   ]
  },
  {
   "cell_type": "code",
   "execution_count": 15,
   "metadata": {},
   "outputs": [
    {
     "name": "stdout",
     "output_type": "stream",
     "text": [
      "+----+---------+------------+----------+------+------------+-----+------+--------------------+----+\n",
      "| mpg|cylinders|displacement|horsepower|weight|acceleration|model|origin|                 car|_c13|\n",
      "+----+---------+------------+----------+------+------------+-----+------+--------------------+----+\n",
      "|18.0|        8|         307|       130|  3504|        12.0|   70|     1|chevrolet chevell...|NULL|\n",
      "|15.0|        8|         350|       165|  3693|        11.5|   70|     1|   buick skylark 320|NULL|\n",
      "|18.0|        8|         318|       150|  3436|        11.0|   70|     1|  plymouth satellite|NULL|\n",
      "|16.0|        8|         304|       150|  3433|        12.0|   70|     1|       amc rebel sst|NULL|\n",
      "|17.0|        8|         302|       140|  3449|        10.5|   70|     1|         ford torino|NULL|\n",
      "|15.0|        8|         429|       198|  4341|        10.0|   70|     1|    ford galaxie 500|NULL|\n",
      "|14.0|        8|         454|       220|  4354|         9.0|   70|     1|    chevrolet impala|NULL|\n",
      "|14.0|        8|         440|       215|  4312|         8.5|   70|     1|   plymouth fury iii|NULL|\n",
      "|14.0|        8|         455|       225|  4425|        10.0|   70|     1|    pontiac catalina|NULL|\n",
      "|15.0|        8|         390|       190|  3850|         8.5|   70|     1|  amc ambassador dpl|NULL|\n",
      "|15.0|        8|         383|       170|  3563|        10.0|   70|     1| dodge challenger se|NULL|\n",
      "|14.0|        8|         340|       160|  3609|         8.0|   70|     1|  plymouth 'cuda 340|NULL|\n",
      "|15.0|        8|         400|       150|  3761|         9.5|   70|     1|chevrolet monte c...|NULL|\n",
      "|14.0|        8|         455|       225|  3086|        10.0|   70|     1|buick estate wago...|NULL|\n",
      "|24.0|        4|         113|        95|  2372|        15.0|   70|     3|toyota corona mar...|NULL|\n",
      "|22.0|        6|         198|        95|  2833|        15.5|   70|     1|     plymouth duster|NULL|\n",
      "|18.0|        6|         199|        97|  2774|        15.5|   70|     1|          amc hornet|NULL|\n",
      "|21.0|        6|         200|        85|  2587|        16.0|   70|     1|       ford maverick|NULL|\n",
      "|27.0|        4|          97|        88|  2130|        14.5|   70|     3|        datsun pl510|NULL|\n",
      "|26.0|        4|          97|        46|  1835|        20.5|   70|     2|volkswagen 1131 d...|NULL|\n",
      "+----+---------+------------+----------+------+------------+-----+------+--------------------+----+\n",
      "only showing top 20 rows\n",
      "\n"
     ]
    },
    {
     "name": "stderr",
     "output_type": "stream",
     "text": [
      "25/06/13 14:41:04 WARN CSVHeaderChecker: CSV header does not conform to the schema.\n",
      " Header: mpg, cylinders, displacement, horsepower, weight, acceleration, model, origin, car, \n",
      " Schema: mpg, cylinders, displacement, horsepower, weight, acceleration, model, origin, car, _c13\n",
      "Expected: _c13 but found: \n",
      "CSV file: file:///home/kevin-llanos/Proyectos/pyspark_exercises/05_Merge/Auto_MPG/data_cars1.csv\n"
     ]
    }
   ],
   "source": [
    "cars1 = cars1.drop(F.col('_c9'), F.col('_c10'), F.col('_c11'), F.col('_c12'), F.col('_c12'), F.col('_c12'))\n",
    "cars1.show()"
   ]
  },
  {
   "cell_type": "code",
   "execution_count": 16,
   "metadata": {},
   "outputs": [],
   "source": [
    "df_car1.drop(columns=[\t'Unnamed: 9',\t'Unnamed: 10',\t'Unnamed: 11',\t'Unnamed: 12',\t'Unnamed: 13'], inplace=True)"
   ]
  },
  {
   "cell_type": "code",
   "execution_count": 18,
   "metadata": {},
   "outputs": [
    {
     "data": {
      "text/html": [
       "<div>\n",
       "<style scoped>\n",
       "    .dataframe tbody tr th:only-of-type {\n",
       "        vertical-align: middle;\n",
       "    }\n",
       "\n",
       "    .dataframe tbody tr th {\n",
       "        vertical-align: top;\n",
       "    }\n",
       "\n",
       "    .dataframe thead th {\n",
       "        text-align: right;\n",
       "    }\n",
       "</style>\n",
       "<table border=\"1\" class=\"dataframe\">\n",
       "  <thead>\n",
       "    <tr style=\"text-align: right;\">\n",
       "      <th></th>\n",
       "      <th>mpg</th>\n",
       "      <th>cylinders</th>\n",
       "      <th>displacement</th>\n",
       "      <th>horsepower</th>\n",
       "      <th>weight</th>\n",
       "      <th>acceleration</th>\n",
       "      <th>model</th>\n",
       "      <th>origin</th>\n",
       "      <th>car</th>\n",
       "    </tr>\n",
       "  </thead>\n",
       "  <tbody>\n",
       "    <tr>\n",
       "      <th>0</th>\n",
       "      <td>18.0</td>\n",
       "      <td>8</td>\n",
       "      <td>307</td>\n",
       "      <td>130</td>\n",
       "      <td>3504</td>\n",
       "      <td>12.0</td>\n",
       "      <td>70</td>\n",
       "      <td>1</td>\n",
       "      <td>chevrolet chevelle malibu</td>\n",
       "    </tr>\n",
       "    <tr>\n",
       "      <th>1</th>\n",
       "      <td>15.0</td>\n",
       "      <td>8</td>\n",
       "      <td>350</td>\n",
       "      <td>165</td>\n",
       "      <td>3693</td>\n",
       "      <td>11.5</td>\n",
       "      <td>70</td>\n",
       "      <td>1</td>\n",
       "      <td>buick skylark 320</td>\n",
       "    </tr>\n",
       "    <tr>\n",
       "      <th>2</th>\n",
       "      <td>18.0</td>\n",
       "      <td>8</td>\n",
       "      <td>318</td>\n",
       "      <td>150</td>\n",
       "      <td>3436</td>\n",
       "      <td>11.0</td>\n",
       "      <td>70</td>\n",
       "      <td>1</td>\n",
       "      <td>plymouth satellite</td>\n",
       "    </tr>\n",
       "    <tr>\n",
       "      <th>3</th>\n",
       "      <td>16.0</td>\n",
       "      <td>8</td>\n",
       "      <td>304</td>\n",
       "      <td>150</td>\n",
       "      <td>3433</td>\n",
       "      <td>12.0</td>\n",
       "      <td>70</td>\n",
       "      <td>1</td>\n",
       "      <td>amc rebel sst</td>\n",
       "    </tr>\n",
       "    <tr>\n",
       "      <th>4</th>\n",
       "      <td>17.0</td>\n",
       "      <td>8</td>\n",
       "      <td>302</td>\n",
       "      <td>140</td>\n",
       "      <td>3449</td>\n",
       "      <td>10.5</td>\n",
       "      <td>70</td>\n",
       "      <td>1</td>\n",
       "      <td>ford torino</td>\n",
       "    </tr>\n",
       "  </tbody>\n",
       "</table>\n",
       "</div>"
      ],
      "text/plain": [
       "    mpg  cylinders  displacement horsepower  weight  acceleration  model  \\\n",
       "0  18.0          8           307        130    3504          12.0     70   \n",
       "1  15.0          8           350        165    3693          11.5     70   \n",
       "2  18.0          8           318        150    3436          11.0     70   \n",
       "3  16.0          8           304        150    3433          12.0     70   \n",
       "4  17.0          8           302        140    3449          10.5     70   \n",
       "\n",
       "   origin                        car  \n",
       "0       1  chevrolet chevelle malibu  \n",
       "1       1          buick skylark 320  \n",
       "2       1         plymouth satellite  \n",
       "3       1              amc rebel sst  \n",
       "4       1                ford torino  "
      ]
     },
     "execution_count": 18,
     "metadata": {},
     "output_type": "execute_result"
    }
   ],
   "source": [
    "df_car1.head()"
   ]
  },
  {
   "cell_type": "markdown",
   "metadata": {},
   "source": [
    "### Step 5. What is the number of observations in each dataset?"
   ]
  },
  {
   "cell_type": "code",
   "execution_count": null,
   "metadata": {
    "collapsed": false
   },
   "outputs": [],
   "source": []
  },
  {
   "cell_type": "markdown",
   "metadata": {},
   "source": [
    "### Step 6. Join cars1 and cars2 into a single DataFrame called cars"
   ]
  },
  {
   "cell_type": "code",
   "execution_count": null,
   "metadata": {
    "collapsed": false
   },
   "outputs": [],
   "source": []
  },
  {
   "cell_type": "markdown",
   "metadata": {},
   "source": [
    "### Step 7. Oops, there is a column missing, called owners. Create a random number Series from 15,000 to 73,000."
   ]
  },
  {
   "cell_type": "code",
   "execution_count": null,
   "metadata": {
    "collapsed": false
   },
   "outputs": [],
   "source": []
  },
  {
   "cell_type": "markdown",
   "metadata": {},
   "source": [
    "### Step 8. Add the column owners to cars"
   ]
  },
  {
   "cell_type": "code",
   "execution_count": null,
   "metadata": {
    "collapsed": false
   },
   "outputs": [],
   "source": []
  }
 ],
 "metadata": {
  "anaconda-cloud": {},
  "kernelspec": {
   "display_name": "myenv_",
   "language": "python",
   "name": "python3"
  },
  "language_info": {
   "codemirror_mode": {
    "name": "ipython",
    "version": 3
   },
   "file_extension": ".py",
   "mimetype": "text/x-python",
   "name": "python",
   "nbconvert_exporter": "python",
   "pygments_lexer": "ipython3",
   "version": "3.10.18"
  }
 },
 "nbformat": 4,
 "nbformat_minor": 0
}
